{
 "cells": [
  {
   "cell_type": "markdown",
   "metadata": {},
   "source": [
    "# S-109A\n",
    "\n",
    "## Lab 1: Data Collection - Web Scraping - Data Parsing\n",
    "\n",
    "**Harvard University**<br>\n",
    "**Summer 2018**<br>\n",
    "**Instructors:** Pavlos Protopapas and Kevin Rader\n",
    "**Lab Instructors:** David Sondak and Will Claybaugh\n",
    "\n",
    "---"
   ]
  },
  {
   "cell_type": "code",
   "execution_count": 1,
   "metadata": {},
   "outputs": [
    {
     "data": {
      "text/html": [
       "<style>div.exercise { background-color: #ffcccc;border-color: #E9967A; border-left: 5px solid #800080; padding: 0.5em;}</style>"
      ],
      "text/plain": [
       "<IPython.core.display.HTML object>"
      ]
     },
     "execution_count": 1,
     "metadata": {},
     "output_type": "execute_result"
    }
   ],
   "source": [
    "from IPython.display import HTML\n",
    "style = \"<style>div.exercise { background-color: #ffcccc;border-color: #E9967A; border-left: 5px solid #800080; padding: 0.5em;}</style>\"\n",
    "HTML(style)"
   ]
  },
  {
   "cell_type": "markdown",
   "metadata": {},
   "source": [
    "# Table of Contents\n",
    "<ol start=\"0\">\n",
    "  <li> Learning Goals </li>\n",
    "  <li> Working with `Python` </li>\n",
    "    <ol>\n",
    "        <li> functions, modules, and libraries </li>\n",
    "    </ol>\n",
    "  <li> `pandas` </li>\n",
    "  <li> Regular Expressions  </li>\n",
    "  <li> Beautiful Soup  </li>\n",
    "</ol>"
   ]
  },
  {
   "cell_type": "markdown",
   "metadata": {},
   "source": [
    "## Learning Goals\n",
    "\n",
    "Overall description and goal for the lab.\n",
    "\n",
    "By the end of this lab, you should be able to:\n",
    "* Know how to use `python` modules and libraries\n",
    "* Use practical syntax for writing functions in `python`\n",
    "* Work proficiently with `pandas`\n",
    "* Know what regular expressions are\n",
    "* Know how to work with regular expressions in `python`\n",
    "* Use `Beautiful Soup` to parse `HTML` webpages\n",
    "* Read and write files\n",
    "\n",
    "**This lab corresponds to lectures 1 and 2 and maps on to homework 1 (and beyond).**"
   ]
  },
  {
   "cell_type": "markdown",
   "metadata": {},
   "source": [
    "## <font color='red'> DO PART 1 BEFORE COMING TO LAB</font>\n",
    "\n",
    "## Part 1: Working with `Python`:  Functions,  Modules, and Libraries\n",
    "In the first part of this lab, you will brush up on your `python` skills.  You are assumed to have a basic, working knowledge of `python`.  We will go a little beyond this and begin to introduce and use some more interesting `python` features.\n",
    "\n",
    "### Comments on `Python` Style\n",
    " - The Python style guide (how many spaces between = signs, how are function names capitalized?) is avilable here: [**PEP8**](https://www.python.org/dev/peps/pep-0008/). This is the official style guide for this class.\n",
    " - In particular, you are expected to organize your code into functions, and document them via function annotations.\n",
    " - For the exact specification refer to [PEP307](https://www.python.org/dev/peps/pep-3107/).  \n",
    " \n",
    "Here is the basic format for writing annotated functions:\n",
    "```python\n",
    "def my_func(name: str, age: int, weight, height: float = 150.0) -> list:\n",
    "    \"\"\"short description of the function's effect\n",
    "    description of input 1\n",
    "    decription of input 2\n",
    "    ...\n",
    "    decription of output\n",
    "    \"\"\"\n",
    "    code\n",
    "    \n",
    "    return [body_mass_index, disease_chance]\n",
    "```\n",
    "Things to notice:\n",
    "1. The argument list to the function contains information about the types.  For example, we can see explicitly that `name` is a `string`.\n",
    "2. The argument list is followed by an arrow pointing to the return type.  In this case, we can see that the return type should be a `list`.\n",
    "\n",
    "### Python Functions\n",
    " - If you have not yet written functions as part of your coding education, you should strongly consider taking another coding class before this one. We assume familiarity with the mechanics of writing functions and the reasons to do so.\n",
    " - Python does not check the types of the variables at runtime. The documentation above is strictly for human readers; it's prefectly possible to pass a floating point value to the `name` input\n",
    " - Python supports default arguments. If a user calls `my_func('david', 30, 170)`, omitting the height argument, the code will run with height taking the default value of `150.0`.\n",
    " - Python functions can be called with named arguments. These can occur in any order. For instance `my_func(age=10, name='will', weight=120)` works as expected, even though the arguments are technically out of order\n",
    " - Python supports functions with variable numbers of arguments and variable numbers of key-word arguments. See [Defining Functions in `Python`](https://docs.python.org/3/tutorial/controlflow.html#more-on-defining-functions) for more.\n",
    "\n",
    "##### Question:  Think of a few reasons why to use function annotations.\n",
    "##### Question:  Think of a case where it makes sense to have a default value for a particular function.  If you can't think of one yet, consider the default used by the 'join' function discussed later in this lab."
   ]
  },
  {
   "cell_type": "markdown",
   "metadata": {},
   "source": [
    "### Python Data Structures\n",
    "We will not review all `python` data structures here; you are expected to be familiar with the main ones:\n",
    "* lists\n",
    "* tuples\n",
    "* dictionaries\n",
    "* sets\n",
    "\n",
    "If the topics in the list above are not familiar to you, then it is absolutely essential that you brush up on them.  Here's the documentation to get you started:  [`python` data structures](https://docs.python.org/3/tutorial/datastructures.html).\n",
    "\n",
    "However, we will very briefly review dictionaries.  They are more complex than `lists` and `tuples` and used extensivly."
   ]
  },
  {
   "cell_type": "markdown",
   "metadata": {},
   "source": [
    "#### Dictionaries\n",
    "Dictionaries are defined by a `key`-`value` pair.  The `key` is used to index the dictionary.  Let's do a short example to review."
   ]
  },
  {
   "cell_type": "code",
   "execution_count": 2,
   "metadata": {},
   "outputs": [
    {
     "name": "stdout",
     "output_type": "stream",
     "text": [
      "border collie\n",
      "\n",
      "\n",
      "{'jack': 'border collie', 'sophi': 'beagle', 'betty': 'irish wolfhound'}\n"
     ]
    }
   ],
   "source": [
    "dog_dict = {} # initialize a dictionary\n",
    "\n",
    "# Populate the dictionary\n",
    "dog_dict[\"jack\"] = \"border collie\"\n",
    "dog_dict[\"sophi\"] = \"beagle\"\n",
    "dog_dict[\"betty\"] = \"irish wolfhound\"\n",
    "\n",
    "print(dog_dict[\"jack\"]) # Access one element of the dictionary\n",
    "print(\"\\n\") # Just make a space for convenience\n",
    "\n",
    "print(dog_dict) # Print the entire dictionary"
   ]
  },
  {
   "cell_type": "markdown",
   "metadata": {},
   "source": [
    "You can do much more with dictionaries, but that example encapsulates the basics."
   ]
  },
  {
   "cell_type": "markdown",
   "metadata": {},
   "source": [
    "#### Question: Which of the above structures (list, tuples, etc) is best for holding...\n",
    "- the names of everyone in CS 109?\n",
    "- a list of all the words in the English language (presuming we'll want to search and decide if a particular user-provided word is one of the correctly-spelled words)?\n",
    "- student ID associated with each student's name?\n",
    "- the name associated with each (sequential) student ID?\n",
    "- the nickname and github username associated with each student ID?\n",
    "\n",
    "(Answers at the bottom of the notebook)"
   ]
  },
  {
   "cell_type": "markdown",
   "metadata": {},
   "source": [
    "### Python Exception Handling\n",
    "Sometimes you make a mistake when writing code.  Rather than crash, the program should fail gracefully, preferably with an informative error message.  These types of considerations are called *exception handling*.  A good way to deal with this in `python` is to use the `try-except` block.  Once again, we won't go deep here.  We'll just show you the basic structure and enthusiastically encourage you to use it when necessary.\n",
    "\n",
    "Extensive documentation can be found at [Errors and Exceptions](https://docs.python.org/3/tutorial/errors.html)."
   ]
  },
  {
   "cell_type": "markdown",
   "metadata": {},
   "source": [
    "#### Example\n",
    "Suppose you write a function that looks like\n",
    "```python\n",
    "def bad_func(x: float, y: float) -> float:\n",
    "    return x / y\n",
    "```\n",
    "and you call it with \n",
    "```python\n",
    "bad_func(1.0, 0.0)\n",
    "```\n",
    "Right away, `python` returns\n",
    "```\n",
    "---------------------------------------------------------------------------\n",
    "ZeroDivisionError                         Traceback (most recent call last)\n",
    "<ipython-input-10-4a83987fd0cc> in <module>()\n",
    "      2     return x / y\n",
    "      3 \n",
    "----> 4 bad_func(1, 0)\n",
    "\n",
    "<ipython-input-10-4a83987fd0cc> in bad_func(x, y)\n",
    "      1 def bad_func(x: float, y: float) -> float:\n",
    "----> 2     return x / y\n",
    "      3 \n",
    "      4 bad_func(1, 0)\n",
    "\n",
    "ZeroDivisionError: division by zero\n",
    "```\n",
    "This is the stack trace and it tells you where the errors occured (You will see this often in this class!). The ultimate problem is often at the very bottom (division by zero, in this case), and from top down you can see where in the code you were when tragedy struck.\n",
    "\n",
    "The error was first detected on line 4 at `bad_func(1,0)` and then at 2 line of `bad_func()`.  Then we're told that the error was a division by zero.\n",
    "\n",
    "So informative!  Can't ask for much more than that.  In fact, `python` has a whole host of exceptions that it is aware of.  You can find them at [Built-in Exception](https://docs.python.org/3/library/exceptions.html) in the documentation.\n",
    "\n",
    "Suppose you don't want your program to die when it reaches an exception and want it to automatically fix the problem (or ignore it) and continue on its merry way.  You can use a `try-except` block to handle this."
   ]
  },
  {
   "cell_type": "code",
   "execution_count": 3,
   "metadata": {},
   "outputs": [
    {
     "name": "stdout",
     "output_type": "stream",
     "text": [
      "WARNING:\n",
      "You set y = 0 but y must be non-zero.\n",
      "We are setting y = 1.  This may drastically change your results.\n",
      "\n",
      " Your important_quantity has a value of 1.000000\n"
     ]
    }
   ],
   "source": [
    "def bad_func(x: float, y: float) -> float:\n",
    "    try:\n",
    "        result = x/y\n",
    "    except ZeroDivisionError:\n",
    "        print(\"WARNING:\")\n",
    "        print(\"You set y = 0 but y must be non-zero.\")\n",
    "        print(\"We are setting y = 1.  This may drastically change your results.\")\n",
    "        y = 1.0\n",
    "        result = x/y\n",
    "    return result\n",
    "\n",
    "x, y = 1.0, 0.0\n",
    "important_quantity = bad_func(x, y)\n",
    "\n",
    "print(\"\\n Your important_quantity has a value of {0:3.6f}\".format(important_quantity))"
   ]
  },
  {
   "cell_type": "markdown",
   "metadata": {},
   "source": [
    "Notice that our program will continue to run past the point of no return.  We were good developers and warned the user about what was happening.\n",
    "\n",
    "For example, maybe $y$ is the standard deviation of a quantity.  The code must normalize all variables to the standard deviation.  If the user makes a mistake and accidentally calculates the standard deviation to be zero, then nothing else will work.  So, we just warn them what happened and don't carry out the normalization (by setting the standard deviation to $1$) and carry on with the analysis.  Hopefully it doesn't matter, but if it does, we at least warned the user about it."
   ]
  },
  {
   "cell_type": "markdown",
   "metadata": {},
   "source": [
    "There are other use cases for exception handling, and you should at least familiarize yourself with them."
   ]
  },
  {
   "cell_type": "markdown",
   "metadata": {},
   "source": [
    "### Python Classes, Modules, and Libraries\n",
    "\n",
    "#### Classes/Objects\n",
    "In true object oriented programming (OOP), the developer writes code around things called objects.  An object (or a class) groups together data and functions that operate on that data.  You might know this terminology from *C++* and other languages.\n",
    "\n",
    "For example, maybe I have one function that calculates the area of a circle and another function that calculates the perimiter.  I could group these two functions together, along with data about the circle into a class called `circle`.\n",
    "A user can create a particular circle by *instantiating* a `circle` oject, as we do below.\n",
    "\n",
    "```python\n",
    "from shapes import circle\n",
    "my_circle = circle(r=5)\n",
    "circle_area = my_circle.area()\n",
    "circle_perimiter = my_circle.perimiter()\n",
    "```\n",
    "When a function is part of an object it is called a *method* instead of a function. Notice that methods are accessed using the *dot* notation.\n",
    "**What really matters for this class is that we will often create an object and use the methods associated with it without having to worry about the object's internal workings**\n",
    "\n",
    "\n",
    "#### Modules\n",
    "Modules in python contain a bunch of code that logically fits together. Most often this is a bunch of classes and functions that address a particular need. For example, there could be a `shapes.py` file that contains the `circle` class used above, as well as a `triangle` class and maybe even a `will_they_fit` function to tell if one shape can fit inside another. That .py file would then be called a module, and we could import from it.\n",
    "\n",
    "If we only want particular portions of a module, we use the from ___ import ___ syntax above. If we want the whole module, we can do this:\n",
    "```python\n",
    "import shapes\n",
    "my_circle = shapes.circle(r=5)\n",
    "my_triangle = shapes.triangle(3,4,5)\n",
    "circle_area = my_circle.area()\n",
    "fit_flag = shapes.will_they_fit(my_circle, my_triangle)\n",
    "```\n",
    "\n",
    "#### Libraries\n",
    "Libraries may contain a bunch of modules that go together.  A library usually has a specific directory structure.  We won't discuss these further here, becuase as a user you only need to know about the import syntax above."
   ]
  },
  {
   "cell_type": "markdown",
   "metadata": {},
   "source": [
    "### Take a breath and recap\n",
    "In this class, you are not expected to write classes, modules or libraries.  However, you will interact with them *all the time*.  You will be expected to replicate the syntax above and use specific modules/libraries on every assignment.\n",
    "\n",
    "##### Libraries that you will become very comfortable with:\n",
    "- `numpy`:  [NumPy](http://www.numpy.org/)\n",
    "- `scipy`:  [SciPy](https://www.scipy.org/)\n",
    "- `sklearn`:  [scikit-learn](http://scikit-learn.org/stable/index.html)\n",
    "- `pandas`:  [pandas](https://pandas.pydata.org/)\n",
    "- `matplotlib`: [matplotlib](https://matplotlib.org/)\n",
    "\n",
    "We won't go into the inner-workings of how each of these libraries works (e.g. `numpy` is built on top of `C`).  However, throughout the course we will make extensive use of these libraries and we will point out the necessary features as we go along.\n",
    "\n",
    "\n",
    "## <font color='red'> You're done. Save the rest for lab on Friday</font>"
   ]
  },
  {
   "cell_type": "markdown",
   "metadata": {},
   "source": [
    "## Part 2:  I/O and Preprocessing\n",
    "Much of data science and computational science involves reading data from files and writing to files.   This process is generally known as `I/O`.\n",
    "\n",
    "There are many ways of accomplishing different `I/O` tasks.  `Python` has its own built-in functionality for reading and working with files.  You can read also read data with `numpy` and `pandas` among others.  We won't cover `numpy` for basic input parsing today, but you'll probably be introduced to it eventually.  We will spend a considerable amount of time on `pandas`."
   ]
  },
  {
   "cell_type": "markdown",
   "metadata": {},
   "source": [
    "### Part 2.1:  `Python`'s built-in I/O \n",
    "We'll work with the small file called `brief_comments.txt` in the `data` directory."
   ]
  },
  {
   "cell_type": "markdown",
   "metadata": {},
   "source": [
    "You can read in a file using the `open` function.  There is a \"right\" way and a \"wrong\" way of doing this."
   ]
  },
  {
   "cell_type": "markdown",
   "metadata": {},
   "source": [
    "An alternative way of reading data from a file is to use the `with` statement."
   ]
  },
  {
   "cell_type": "code",
   "execution_count": 4,
   "metadata": {},
   "outputs": [],
   "source": [
    "# This approach should not be used!\n",
    "f = open(\"data/brief_comments.txt\", \"r\") # Open the file for reading\n",
    "dogs = f.read() # Read the file\n",
    "f.close() # Remember to close the file!"
   ]
  },
  {
   "cell_type": "code",
   "execution_count": 5,
   "metadata": {},
   "outputs": [],
   "source": [
    "# This approach is the correct way, and should always be used.\n",
    "with open(\"data/brief_comments.txt\", \"r\") as f:\n",
    "    dogs = f.read()"
   ]
  },
  {
   "cell_type": "markdown",
   "metadata": {},
   "source": [
    "#### Observations\n",
    "The `with` statement does a few things for us automatically.  First, it closes the file for us so we don't need to remember to do this.  It is important to close a file when you're done with it!  There are a few reasons for this:\n",
    "1. Having too many files open at once consumes resources\n",
    "2. Not closing a file is sloppy coding\n",
    "3. You might not see changes to the file until you close it\n",
    "\n",
    "`with` even closes the file for us if an exception was thrown.  It's nice that the `with` statement handles that for us."
   ]
  },
  {
   "cell_type": "markdown",
   "metadata": {},
   "source": [
    "### Part 2.2:  Preprocessing\n",
    "\n",
    "Now we can do some operations on the text.  We will explore a few methods here:\n",
    "1. `len`\n",
    "2. `split`\n",
    "3. `lower`\n",
    "\n",
    "There are many other methods as part of the `string` class.  These can be found in the documentation:  [String Methods](https://docs.python.org/3/library/stdtypes.html#string-methods)."
   ]
  },
  {
   "cell_type": "code",
   "execution_count": 6,
   "metadata": {},
   "outputs": [
    {
     "name": "stdout",
     "output_type": "stream",
     "text": [
      "Dogs have been with humans for millenia.  Although they do not speak human languages (e.g. English or Chinese), they have been watching and observing\n",
      "us for all that time.  Their emotional intelligence is prodigious.  We are only just beginning to scrape the surface of the mind of dogs.  The nascent\n",
      "field of dog cognition is beginning to shed light on ways to form meaningful communication with dogs.\n",
      "\n"
     ]
    }
   ],
   "source": [
    "print(dogs) # What are the contents of the object we just read in?"
   ]
  },
  {
   "cell_type": "code",
   "execution_count": 7,
   "metadata": {},
   "outputs": [
    {
     "data": {
      "text/plain": [
       "str"
      ]
     },
     "execution_count": 7,
     "metadata": {},
     "output_type": "execute_result"
    }
   ],
   "source": [
    "type(dogs) # What kind of data are we dealing with?"
   ]
  },
  {
   "cell_type": "code",
   "execution_count": 8,
   "metadata": {},
   "outputs": [
    {
     "name": "stdout",
     "output_type": "stream",
     "text": [
      "403\n"
     ]
    }
   ],
   "source": [
    "l = len(dogs) # How many characters are in this string?\n",
    "print(l)"
   ]
  },
  {
   "cell_type": "code",
   "execution_count": 9,
   "metadata": {},
   "outputs": [
    {
     "data": {
      "text/plain": [
       "'b'"
      ]
     },
     "execution_count": 9,
     "metadata": {},
     "output_type": "execute_result"
    }
   ],
   "source": [
    "dogs[10] # Let's access the 11th item"
   ]
  },
  {
   "cell_type": "markdown",
   "metadata": {},
   "source": [
    "That's something of a letdown.  The `string` object is just one giant string so accessing the first item gives us the first character.  It would be more useful to access individual words.  We can use the `split` method to accomplish this: [`str.split`](https://docs.python.org/3/library/stdtypes.html#str.split)."
   ]
  },
  {
   "cell_type": "code",
   "execution_count": 10,
   "metadata": {},
   "outputs": [
    {
     "name": "stdout",
     "output_type": "stream",
     "text": [
      "['Dogs', 'have', 'been', 'with', 'humans', 'for', 'millenia.', 'Although', 'they', 'do', 'not', 'speak', 'human', 'languages', '(e.g.', 'English', 'or', 'Chinese),', 'they', 'have', 'been', 'watching', 'and', 'observing', 'us', 'for', 'all', 'that', 'time.', 'Their', 'emotional', 'intelligence', 'is', 'prodigious.', 'We', 'are', 'only', 'just', 'beginning', 'to', 'scrape', 'the', 'surface', 'of', 'the', 'mind', 'of', 'dogs.', 'The', 'nascent', 'field', 'of', 'dog', 'cognition', 'is', 'beginning', 'to', 'shed', 'light', 'on', 'ways', 'to', 'form', 'meaningful', 'communication', 'with', 'dogs.']\n"
     ]
    }
   ],
   "source": [
    "words = dogs.split()\n",
    "print(words)"
   ]
  },
  {
   "cell_type": "code",
   "execution_count": 11,
   "metadata": {},
   "outputs": [
    {
     "data": {
      "text/plain": [
       "list"
      ]
     },
     "execution_count": 11,
     "metadata": {},
     "output_type": "execute_result"
    }
   ],
   "source": [
    "type(words)"
   ]
  },
  {
   "cell_type": "markdown",
   "metadata": {},
   "source": [
    "So `split` returned a `python` `list` by splitting the string into elements separated by white space.  Now let's see what the 11th item is."
   ]
  },
  {
   "cell_type": "code",
   "execution_count": 12,
   "metadata": {},
   "outputs": [
    {
     "data": {
      "text/plain": [
       "'not'"
      ]
     },
     "execution_count": 12,
     "metadata": {},
     "output_type": "execute_result"
    }
   ],
   "source": [
    "words[10]"
   ]
  },
  {
   "cell_type": "markdown",
   "metadata": {},
   "source": [
    "Very nice!  Let's explore some of the other cool string operations that we can do."
   ]
  },
  {
   "cell_type": "code",
   "execution_count": 13,
   "metadata": {},
   "outputs": [
    {
     "name": "stdout",
     "output_type": "stream",
     "text": [
      "There are 67 words in our brief comments.\n"
     ]
    }
   ],
   "source": [
    "N = len(words) # Number of words\n",
    "print(\"There are {0} words in our brief comments.\".format(N))"
   ]
  },
  {
   "cell_type": "markdown",
   "metadata": {},
   "source": [
    "#### Brief Interlude\n",
    "We used the `format` method on a string.  The *pythonic* way of doing this in `python3` can be found at the following resources:\n",
    "* [The `format` statement](https://docs.python.org/3/library/stdtypes.html#str.format) --- Syntax for using the `format` statement.\n",
    "* [Format String Syntax](https://docs.python.org/3/library/string.html#formatstrings) --- Different ways for formating strings (e.g. printing integers, floats, etc).\n",
    "* [Formatting Literal Strings](https://docs.python.org/3/reference/lexical_analysis.html#f-strings) --- An alternative way of formatting strings.  Not used in this lab.\n",
    "\n",
    "#### End Brief Interlude"
   ]
  },
  {
   "cell_type": "markdown",
   "metadata": {},
   "source": [
    "Let's get back to our nice little example.\n",
    "\n",
    "Suppose we want to count the occurance of a particular word.  We could use the `count` method (see [`list.count()`](https://docs.python.org/3/tutorial/datastructures.html)).\n",
    "\n",
    "How many times is the word `dogs` mentioned?"
   ]
  },
  {
   "cell_type": "code",
   "execution_count": 14,
   "metadata": {},
   "outputs": [
    {
     "data": {
      "text/plain": [
       "0"
      ]
     },
     "execution_count": 14,
     "metadata": {},
     "output_type": "execute_result"
    }
   ],
   "source": [
    "words.count(\"dogs\")"
   ]
  },
  {
   "cell_type": "markdown",
   "metadata": {},
   "source": [
    "That's not correct.  We can see clearly that the word `dogs` is mentioned $3$ times (it's a small enough text that we can count this manually).  The problem is that sometimes `dogs` is capitalized, sometimes it comes with a period, and sometimes it's all lowercase.  We need to do further processing."
   ]
  },
  {
   "cell_type": "code",
   "execution_count": 15,
   "metadata": {},
   "outputs": [
    {
     "data": {
      "text/plain": [
       "2"
      ]
     },
     "execution_count": 15,
     "metadata": {},
     "output_type": "execute_result"
    }
   ],
   "source": [
    "more_words = [word.split('.')[0] for word in words] # List comprehension\n",
    "more_words.count(\"dogs\")"
   ]
  },
  {
   "cell_type": "markdown",
   "metadata": {},
   "source": [
    "We found $2$ dogs!  Still not correct, but better than before.\n",
    "\n",
    "What just happened here?!"
   ]
  },
  {
   "cell_type": "code",
   "execution_count": 16,
   "metadata": {},
   "outputs": [
    {
     "data": {
      "text/plain": [
       "2"
      ]
     },
     "execution_count": 16,
     "metadata": {},
     "output_type": "execute_result"
    }
   ],
   "source": [
    "# We can write the list comprehension as a for loop as follows:\n",
    "more_words1 = []\n",
    "for word in words:\n",
    "    inter = word.split('.')\n",
    "    inter1 = inter[0]\n",
    "    more_words1.append(inter1)\n",
    "more_words1.count(\"dogs\")"
   ]
  },
  {
   "cell_type": "markdown",
   "metadata": {},
   "source": [
    "Let's put this all into English."
   ]
  },
  {
   "cell_type": "markdown",
   "metadata": {},
   "source": [
    "\n",
    "1. First of all, this time we used `split` to split on periods rather than white space.  Splitting on white space is the default.  Beyond that, you have to tell it what to do the split on.\n",
    "2. Second, we introduced a **list comprehension**.  The list comprehension structure is extremely useful.  You should take a look at the documentation:  [List Comprehensions](https://docs.python.org/3/tutorial/datastructures.html#list-comprehensions).  Basically, a list comprehension can be used to create a new list by applying operations on an old list.\n",
    "3. Third, we accessed the first element of the new list in the list comprehension.\n",
    "  * You see, each time the `split` method is called, it creates a new list.\n",
    "  * But we know that we don't want a list of lists.\n",
    "    - Try it out.  Just print the result from `[word.split('.') for word in words]` and see what it looks like.\n",
    "  * We also know that the nested lists contain just one element (a single word), so we just access that word and get a string back.  If this sentence sounds strange to you, then you probably didn't try things out on your own like we suggested you do."
   ]
  },
  {
   "cell_type": "markdown",
   "metadata": {},
   "source": [
    "<div class=\"exercise\"><b>Exercise</b></div>\n",
    "You should play around with list comprehensions on your own.  Create any list you want.  Then operate on it using a list comprehension.\n",
    "* The list doesn't have to be strings (make it `int`s if you want to).\n",
    "* For example, you could make a list of consecutive integers (call it `int_list`).\n",
    "* Then use a list comprehension to square each integer and put the result in a new list (call it `int_list_sqrd`)."
   ]
  },
  {
   "cell_type": "code",
   "execution_count": 17,
   "metadata": {},
   "outputs": [
    {
     "name": "stdout",
     "output_type": "stream",
     "text": [
      "[25, 16, 9, 4, 1, 0, 1, 4, 9, 16, 25]\n"
     ]
    }
   ],
   "source": [
    "# your code here\n",
    "my_ints = [i for i in range(-5, 6)]\n",
    "my_ints2 = [i*i for i in my_ints]\n",
    "print(my_ints2)"
   ]
  },
  {
   "cell_type": "markdown",
   "metadata": {},
   "source": [
    "Still, we have more work to do.  Only $2$ occurrances of the word `dogs` were noted.  The other occurance happens with a capital letter.  Not to fear!  We can convert strings to lower case using the `lower` method."
   ]
  },
  {
   "cell_type": "code",
   "execution_count": 18,
   "metadata": {},
   "outputs": [
    {
     "data": {
      "text/plain": [
       "'hello bonnie'"
      ]
     },
     "execution_count": 18,
     "metadata": {},
     "output_type": "execute_result"
    }
   ],
   "source": [
    "my_str = 'HELLO Bonnie'\n",
    "my_str.lower()"
   ]
  },
  {
   "cell_type": "markdown",
   "metadata": {},
   "source": [
    "<div class=\"exercise\"><b>Exercise</b></div>\n",
    "Use a list comprehension to create a list of all lower case words starting from the `more_words` list that we just created.  Then print out the number of occurrances of the word `dogs`."
   ]
  },
  {
   "cell_type": "code",
   "execution_count": 19,
   "metadata": {},
   "outputs": [
    {
     "data": {
      "text/plain": [
       "3"
      ]
     },
     "execution_count": 19,
     "metadata": {},
     "output_type": "execute_result"
    }
   ],
   "source": [
    "# Your code here\n",
    "lower_words = [word.lower() for word in more_words]\n",
    "lower_words.count(\"dogs\")"
   ]
  },
  {
   "cell_type": "markdown",
   "metadata": {},
   "source": [
    "<div class=\"exercise\"><b> Exercise </b> </div>\n",
    "* `hamlet.txt` is in the `data` directory.  Open and read it into a variable called `hamlettext`.\n",
    "* What is the type of `hamlettext`?  What is its length?  Print the first $500$ items of `hamlettext`.\n",
    "* Create a list called `hamletwords` where the items are the words of the play.\n",
    "  * Confirm that the list you created is really a list\n",
    "  * Confirm that each element of the list is a string\n",
    "  * Print the first 10 items in the list.  \n",
    "  * Print \"There are $N$ total words in Hamlet.\",  where $N$ is the total number of words in Hamlet.\n",
    "* Using a *list comprehension*, create `hamletwords_lc` which converts the items in `hamletwords` to lower-case. \n",
    "* Count the number of occurences of the word \"thou\".\n",
    "* Use `set` to determine the set of unique words in `hamletwords_lc`.  Here's documentation on the `set` datatype:  [Sets](https://docs.python.org/3/tutorial/datastructures.html#sets).\n",
    "  * Print \"There are $M$ unique words in Hamlet.\", where $M$ is the number of unique words.  As a sanity check, verify that $M < N$.\n",
    "  * Your output should be \n",
    "  ```\n",
    "  \"There are 7456 unique words in Hamlet.\"\n",
    "  ```"
   ]
  },
  {
   "cell_type": "code",
   "execution_count": 20,
   "metadata": {},
   "outputs": [
    {
     "name": "stdout",
     "output_type": "stream",
     "text": [
      "<class 'str'> \n",
      "\n",
      "173946 \n",
      "\n",
      "﻿XXXX\n",
      "HAMLET, PRINCE OF DENMARK\n",
      "\n",
      "by William Shakespeare\n",
      "\n",
      "\n",
      "\n",
      "\n",
      "PERSONS REPRESENTED.\n",
      "\n",
      "Claudius, King of Denmark.\n",
      "Hamlet, Son to the former, and Nephew to the present King.\n",
      "Polonius, Lord Chamberlain.\n",
      "Horatio, Friend to Hamlet.\n",
      "Laertes, Son to Polonius.\n",
      "Voltimand, Courtier.\n",
      "Cornelius, Courtier.\n",
      "Rosencrantz, Courtier.\n",
      "Guildenstern, Courtier.\n",
      "Osric, Courtier.\n",
      "A Gentleman, Courtier.\n",
      "A Priest.\n",
      "Marcellus, Officer.\n",
      "Bernardo, Officer.\n",
      "Francisco, a Soldier\n",
      "Reynaldo, Servant to Polonius.\n",
      "Players.\n",
      "Two Clowns,  \n",
      "\n",
      "<class 'list'> \n",
      "\n",
      "['\\ufeffXXXX', 'HAMLET,', 'PRINCE', 'OF', 'DENMARK', 'by', 'William', 'Shakespeare', 'PERSONS', 'REPRESENTED.'] \n",
      "\n",
      "There are 31659 total words in Hamlet.\n",
      "\n",
      "95 \n",
      "\n",
      "7456 31659 \n",
      "\n",
      "There are 7456 unique words in Hamlet.\n"
     ]
    }
   ],
   "source": [
    "# Your code here\n",
    "\n",
    "# Open file\n",
    "with open(\"data/hamlet.txt\", \"r\") as f:\n",
    "    hamlettext = f.read()\n",
    "\n",
    "print(type(hamlettext), \"\\n\") # data type\n",
    "print(len(hamlettext), \"\\n\") # length\n",
    "print(hamlettext[:500], \"\\n\") # first 500 items\n",
    "\n",
    "hamletwords = hamlettext.split() # get list of words in hamlet\n",
    "print(type(hamletwords), \"\\n\") # confirm that it's a list\n",
    "print(hamletwords[0:10], \"\\n\") # first 10 items\n",
    "print(\"There are %d total words in Hamlet.\\n\" %len(hamletwords)) # Total words in hamlet\n",
    "\n",
    "hamletwords_lc = [word.lower() for word in hamletwords] # convert to lowercase\n",
    "print(hamletwords_lc.count(\"thou\"), \"\\n\") # occurences of thou\n",
    "\n",
    "uniquewords_lc = set(hamletwords_lc) # unique words\n",
    "print(len(uniquewords_lc), len(hamletwords_lc), \"\\n\")\n",
    "print(\"There are {0} unique words in Hamlet.\".format(len(uniquewords_lc)))"
   ]
  },
  {
   "cell_type": "markdown",
   "metadata": {},
   "source": [
    "[Poll everywhere link]"
   ]
  },
  {
   "cell_type": "markdown",
   "metadata": {},
   "source": [
    "### Part 2.3:  Writing Files\n",
    "So far, we've discussed how to read data from files.  We've used `python`'s built-in functionality.  Of course, you generally want to *write* data to files as well.  What's the point of generating data if you're not saving it somewhere?!\n",
    "\n",
    "We'll begin this section by generating some data to write."
   ]
  },
  {
   "cell_type": "code",
   "execution_count": 21,
   "metadata": {},
   "outputs": [
    {
     "name": "stdout",
     "output_type": "stream",
     "text": [
      "Our list is [25, 16, 9, 4, 1, 0, 1, 4, 9, 16, 25].\n"
     ]
    }
   ],
   "source": [
    "my_ints = [i for i in range(-5, 6)]\n",
    "my_ints2 = [i*i for i in my_ints]\n",
    "print(\"Our list is {0}.\".format(my_ints2))"
   ]
  },
  {
   "cell_type": "markdown",
   "metadata": {},
   "source": [
    "Now let's prepare to write this data out."
   ]
  },
  {
   "cell_type": "code",
   "execution_count": 22,
   "metadata": {},
   "outputs": [],
   "source": [
    "with open(\"data/datafile.txt\", \"w\") as dataf:\n",
    "    # header\n",
    "    dataf.write(\"Here is a list of squared ints.\\n\\n\")\n",
    "    # Columns\n",
    "    dataf.write(\"n\")\n",
    "    dataf.write(\", \")\n",
    "    dataf.write(\"n^2\" + \"\\n\")\n",
    "    # Data\n",
    "    for i, i2 in zip(my_ints, my_ints2):\n",
    "        dataf.write(\"{}, {}\\n\".format(str(i), str(i2)))"
   ]
  },
  {
   "cell_type": "markdown",
   "metadata": {},
   "source": [
    "Once again, there are a few things worth mentioning here.\n",
    "\n",
    "1. This is pretty ugly. We even had to convert the floats and ints to strings before we could write things out.\n",
    "2. We've introduced the `zip` method.\n",
    "  * Here's the documentation: [`zip` documentation](https://docs.python.org/3/library/functions.html#zip)\n",
    "  * Here's the essence:  Combine the two lists into a tuple.  Now you can iterate on the tuple.\n",
    "  * More precisely, `zip` aggregates the *iterables* `nums` and `some_data` into an *iterator* of tuples.  \n",
    "    - In our case, the iterables here are just lists (they can be iterated on).\n",
    "    - The *iterator of tuples* is formed by pairing the first elements of each list into a tuple.\n",
    "    - That tuple is iterated upon by the `for` statement during which the elements of the tuple are extracted.\n",
    "  * This sounds complicated, but it makes things very clean and nice to work with.  You should practice using `zip` whenever possible.\n",
    "3. The related cousin of `zip` is `enuemrate`:  [`enumerate` documentation](https://docs.python.org/3/library/functions.html#enumerate).  We will use `enumerate` all the time, but not yet."
   ]
  },
  {
   "cell_type": "markdown",
   "metadata": {},
   "source": [
    "### `json`"
   ]
  },
  {
   "cell_type": "markdown",
   "metadata": {},
   "source": [
    "We really don't want to write out complex data forms using the `write` method.\n",
    "\n",
    "Fortunately, there are a bunch of ways to write out data:\n",
    "* [`pickle`](https://docs.python.org/3/library/pickle.html#module-pickle) --- `python` specific; used for saving and loading `python` objects\n",
    "* [`xml`](https://docs.python.org/3/library/xml.html) --- Commonly used standard for storing data.\n",
    "* [`json`](https://docs.python.org/3/library/json.html#module-json) --- Extremely commonly used standard for sharing data.\n",
    "\n",
    "We will focus on `json` because it is a commonly used standard for data exchange.  Here is a nice little tutorial on `json`: [Working With JSON Data in Python](https://realpython.com/python-json/).\n",
    "\n",
    "Here are a few comments on `json`:\n",
    "* Human readable\n",
    "* Used both within and external to the `python` ecosystem\n",
    "* Cannot represent all `python` types, but that's usually okay.  If you are only working in `python`, then you should probably just use `pickle`."
   ]
  },
  {
   "cell_type": "code",
   "execution_count": 23,
   "metadata": {},
   "outputs": [],
   "source": [
    "import json # import the json library"
   ]
  },
  {
   "cell_type": "markdown",
   "metadata": {},
   "source": [
    "Suppose we have a `python` dictionary containing information about individual dogs in a particular dog shelter."
   ]
  },
  {
   "cell_type": "code",
   "execution_count": 24,
   "metadata": {},
   "outputs": [
    {
     "data": {
      "text/plain": [
       "{'dog1': {'age': 3,\n",
       "  'breed': 'Border Collie',\n",
       "  'name': 'Cloe',\n",
       "  'playgroup': 'Yes'},\n",
       " 'dog2': {'age': 7, 'breed': 'Beagle', 'name': 'Karl', 'playgroup': 'Yes'}}"
      ]
     },
     "execution_count": 24,
     "metadata": {},
     "output_type": "execute_result"
    }
   ],
   "source": [
    "dog_shelter = {} # Initialize dictionary\n",
    "\n",
    "# Set up dictionary elements\n",
    "dog_shelter['dog1'] = {'name': 'Cloe', 'age': 3, 'breed': 'Border Collie', 'playgroup': 'Yes'}\n",
    "dog_shelter['dog2'] = {'name': 'Karl', 'age': 7, 'breed': 'Beagle', 'playgroup': 'Yes'}\n",
    "\n",
    "dog_shelter"
   ]
  },
  {
   "cell_type": "markdown",
   "metadata": {},
   "source": [
    "We can access the elements of the dictionary like so:"
   ]
  },
  {
   "cell_type": "code",
   "execution_count": 25,
   "metadata": {},
   "outputs": [
    {
     "data": {
      "text/plain": [
       "{'age': 3, 'breed': 'Border Collie', 'name': 'Cloe', 'playgroup': 'Yes'}"
      ]
     },
     "execution_count": 25,
     "metadata": {},
     "output_type": "execute_result"
    }
   ],
   "source": [
    "dog_shelter['dog1']"
   ]
  },
  {
   "cell_type": "code",
   "execution_count": 26,
   "metadata": {},
   "outputs": [
    {
     "data": {
      "text/plain": [
       "'Karl'"
      ]
     },
     "execution_count": 26,
     "metadata": {},
     "output_type": "execute_result"
    }
   ],
   "source": [
    "dog_shelter['dog2']['name']"
   ]
  },
  {
   "cell_type": "markdown",
   "metadata": {},
   "source": [
    "#### Writing to `json` file"
   ]
  },
  {
   "cell_type": "markdown",
   "metadata": {},
   "source": [
    "Now we should save the dictionary to a file.  We decide to save it in `json` format because then many people will be able to read it and work with it."
   ]
  },
  {
   "cell_type": "code",
   "execution_count": 27,
   "metadata": {},
   "outputs": [],
   "source": [
    "with open('dog_shelter_info.txt', 'w') as output:  \n",
    "    json.dump(dog_shelter, output)"
   ]
  },
  {
   "cell_type": "markdown",
   "metadata": {},
   "source": [
    "We can make sure the file is there:"
   ]
  },
  {
   "cell_type": "code",
   "execution_count": 28,
   "metadata": {},
   "outputs": [
    {
     "name": "stdout",
     "output_type": "stream",
     "text": [
      "Lab1-Solutions.ipynb Untitled1.ipynb      \u001b[34mimages\u001b[m\u001b[m\r\n",
      "Lab1.ipynb           \u001b[34mdata\u001b[m\u001b[m                 \u001b[34mlab_files\u001b[m\u001b[m\r\n",
      "README.md            dog_shelter_info.txt\r\n",
      "Untitled.ipynb       iacs.png\r\n"
     ]
    }
   ],
   "source": [
    "!ls"
   ]
  },
  {
   "cell_type": "markdown",
   "metadata": {},
   "source": [
    "And we can even take a quick look:"
   ]
  },
  {
   "cell_type": "code",
   "execution_count": 29,
   "metadata": {},
   "outputs": [
    {
     "name": "stdout",
     "output_type": "stream",
     "text": [
      "{\"dog1\": {\"name\": \"Cloe\", \"age\": 3, \"breed\": \"Border Collie\", \"playgroup\": \"Yes\"}, \"dog2\": {\"name\": \"Karl\", \"age\": 7, \"breed\": \"Beagle\", \"playgroup\": \"Yes\"}}"
     ]
    }
   ],
   "source": [
    "!cat dog_shelter_info.txt"
   ]
  },
  {
   "cell_type": "markdown",
   "metadata": {},
   "source": [
    "By the way, don't worry if you don't understand those last two commands.  Those are command line commands meaning *list files in current directory* (`ls`) and *view contents of file* (`cat`)."
   ]
  },
  {
   "cell_type": "markdown",
   "metadata": {},
   "source": [
    "#### Reading from `json` file"
   ]
  },
  {
   "cell_type": "markdown",
   "metadata": {},
   "source": [
    "Reading from a `json` file is also very easy."
   ]
  },
  {
   "cell_type": "code",
   "execution_count": 30,
   "metadata": {},
   "outputs": [],
   "source": [
    "with open('dog_shelter_info.txt', 'r') as f:\n",
    "    dog_data = json.load(f)"
   ]
  },
  {
   "cell_type": "code",
   "execution_count": 31,
   "metadata": {},
   "outputs": [
    {
     "name": "stdout",
     "output_type": "stream",
     "text": [
      "{'dog1': {'name': 'Cloe', 'age': 3, 'breed': 'Border Collie', 'playgroup': 'Yes'}, 'dog2': {'name': 'Karl', 'age': 7, 'breed': 'Beagle', 'playgroup': 'Yes'}}\n"
     ]
    }
   ],
   "source": [
    "print(dog_data)"
   ]
  },
  {
   "cell_type": "markdown",
   "metadata": {},
   "source": [
    "Let's explore the data structure.  We know that it's a `python` dictionary."
   ]
  },
  {
   "cell_type": "code",
   "execution_count": 32,
   "metadata": {
    "scrolled": true
   },
   "outputs": [
    {
     "name": "stdout",
     "output_type": "stream",
     "text": [
      "dog1\n",
      "Cloe is a 3 year old Border Collie.\n",
      "Cloe can attend playgroup.\n",
      "======================================\n",
      "\n",
      "dog2\n",
      "Karl is a 7 year old Beagle.\n",
      "Karl can attend playgroup.\n",
      "======================================\n",
      "\n"
     ]
    }
   ],
   "source": [
    "for dogid, info in dog_data.items():\n",
    "    print(dogid)\n",
    "    print(\"{0} is a {1} year old {2}.\".format(info['name'], info['age'], info['breed']))\n",
    "    if info['playgroup'].lower() == 'yes':\n",
    "        print(\"{0} can attend playgroup.\".format(info['name']))\n",
    "    else:\n",
    "        print(\"{0} is not permitted at playgroup.\".format(info['name']))\n",
    "    print(\"======================================\\n\")"
   ]
  },
  {
   "cell_type": "markdown",
   "metadata": {},
   "source": [
    "##  Part 2: Regular Expressions\n",
    "\n",
    "### Background and Motivation\n",
    "*Regular Expressions* (a.k.a. `regex` or `regexp`) are a tool for working with and manipulating text data.  We've already done some text manipulation in this lab.  We've shied away from particularly thorny examples until now.  Using `python`'s string methods is useful, but that approach has it's limitations.\n",
    "\n",
    "Regular expressions provide a set of rules for working with text data.  At first, these expressions look completely foreign (e.g. `([0-9]+(\\.[0-9]+){3})`), but once you know some of the basics they're not so bad.\n",
    "\n",
    "As it turns out, the fundamentals of regular expressions are based upon abstract algebra.  Mathematicians have studied regular expressions simply to lay down and understand their theoretical underpinnings.  We won't go anywhere near that level of detail.  For us, regular expressions will simply be used to process some gnarly text data.\n",
    "\n",
    "There are a few key `regex` patterns and concepts that you must know and be comfortable with.  That fact is, there are many ways to create a `regex` to search for a particular pattern.  Some approaches are more succinct than others.  As with most things, you will get better the more you practice.  You should try to make your `regex` patterns as crisp as possible while still mainting readabilty.\n",
    "\n",
    "### Some resources\n",
    "In order to become proficient with `regex`s, you are **strongly encouraged** to take the *RegexOne* tutorial at [https://regexone.com/](https://regexone.com/).  That tutorial is an interactive and accessible introduction to regular expressions and it can be done in an hour.  It contains problems at the end to test your knowledge.  The *RegexOne* website also contains a very nice demo for `Python3`.  This lab will borrow from the *RegexOne* `python` demo to walk you through some concepts.\n",
    "\n",
    "You may also want to consider the book [Mastering Regular Expressions](http://shop.oreilly.com/product/9780596528126.do) for more details as well as some historical comments.\n",
    "\n",
    "---"
   ]
  },
  {
   "cell_type": "markdown",
   "metadata": {},
   "source": [
    "### Learning by Example\n",
    "Suppose you have a string containing a date:"
   ]
  },
  {
   "cell_type": "code",
   "execution_count": 33,
   "metadata": {},
   "outputs": [],
   "source": [
    "birthday = \"June 11\""
   ]
  },
  {
   "cell_type": "markdown",
   "metadata": {},
   "source": [
    "You would like to search this string for the month.  For such a simple string, this can easily be done with the `python` string methods."
   ]
  },
  {
   "cell_type": "code",
   "execution_count": 34,
   "metadata": {},
   "outputs": [
    {
     "name": "stdout",
     "output_type": "stream",
     "text": [
      "June\n"
     ]
    }
   ],
   "source": [
    "birth_month = birthday.strip()[:-3]\n",
    "print(birth_month)"
   ]
  },
  {
   "cell_type": "markdown",
   "metadata": {},
   "source": [
    "We're after much more intense strings, which we'll process with regular expressions.  Let's warm up with a `regex` on this simple string."
   ]
  },
  {
   "cell_type": "code",
   "execution_count": 35,
   "metadata": {},
   "outputs": [],
   "source": [
    "regex = r\"\\w+\" # A first regular expression"
   ]
  },
  {
   "cell_type": "markdown",
   "metadata": {},
   "source": [
    "What in the world does this mean?!  Well, there are a few syntactical details here:\n",
    "1. The `r` means that the string is a *raw string*.  This just tells `python` not to interpret backslashes and other metacharacters in the string.  For example, in order to render TeX, you must use a raw string.\n",
    "2. The `\\w` indicates any alphanumeric character.\n",
    "3. The `+` indicates one or more occurances.\n",
    "\n",
    "In English words, we say that `regex` is a regular expression that tries to match one or more occurances of alphanumeric characters.\n",
    "\n",
    "We still haven't specified what string we want to find the matches in.  All we've done so far is specify a `regex`.\n",
    "\n",
    "Let's remedy that.  We will now use the `python` `re` module to start matching some regular expressions in strings.  Here are two more resources for you:\n",
    "* [`re` module documentation](https://docs.python.org/3/library/re.html) --- The official `python` documentation on the `re` module\n",
    "* [Regular Expression HOWTO](https://docs.python.org/3/howto/regex.html#regex-howto) --- A gentler introduction to using the `re` module.\n",
    "\n",
    "Honestly, your best bet is still to start with the resources found on the *RegexOne* site."
   ]
  },
  {
   "cell_type": "code",
   "execution_count": 36,
   "metadata": {},
   "outputs": [
    {
     "name": "stdout",
     "output_type": "stream",
     "text": [
      "<_sre.SRE_Match object; span=(0, 4), match='June'>\n"
     ]
    }
   ],
   "source": [
    "import re # Regular expression module\n",
    "months = re.search(regex, birthday) # Search string for regex\n",
    "print(months)"
   ]
  },
  {
   "cell_type": "markdown",
   "metadata": {},
   "source": [
    "We just searched the `birthday` string for the regular expression contained in `regex`.  If the pattern doesn't match, then we get `None` in return, otherwise we get an object that contains some information.  In our case, the pattern matches something in `birthday`.  What information did we get?\n",
    "* We are told the `start` and `end` of the matching pattern (that is the `span=(0, 4)`)\n",
    "* We are told what matched (that is the `'June'`)\n",
    "\n",
    "You can access the starting and ending indices with the `start()` and `end()` methods as follows:"
   ]
  },
  {
   "cell_type": "code",
   "execution_count": 37,
   "metadata": {},
   "outputs": [
    {
     "name": "stdout",
     "output_type": "stream",
     "text": [
      "The matched pattern starts at index 0 and ends at index 4.\n"
     ]
    }
   ],
   "source": [
    "print(\"The matched pattern starts at index {0} and ends at index {1}.\".format(months.start(), months.end()))"
   ]
  },
  {
   "cell_type": "markdown",
   "metadata": {},
   "source": [
    "Note that we could have used a very simple pattern to search for the word `June`:"
   ]
  },
  {
   "cell_type": "code",
   "execution_count": 38,
   "metadata": {},
   "outputs": [
    {
     "data": {
      "text/plain": [
       "<_sre.SRE_Match object; span=(0, 4), match='June'>"
      ]
     },
     "execution_count": 38,
     "metadata": {},
     "output_type": "execute_result"
    }
   ],
   "source": [
    "regex = r\"June\"\n",
    "re.search(regex, birthday)"
   ]
  },
  {
   "cell_type": "markdown",
   "metadata": {},
   "source": [
    "Same answer!"
   ]
  },
  {
   "cell_type": "code",
   "execution_count": 39,
   "metadata": {},
   "outputs": [],
   "source": [
    "re.search(r\"Oct\", birthday) # nothing prints out"
   ]
  },
  {
   "cell_type": "markdown",
   "metadata": {},
   "source": [
    "**Note:** When a regex fails to match, like above, it can look a little weird. Instead of getting an empty regex object that prints out, we get `None`, which doesn't dispaly anything. Printing it still works though."
   ]
  },
  {
   "cell_type": "code",
   "execution_count": 40,
   "metadata": {},
   "outputs": [
    {
     "name": "stdout",
     "output_type": "stream",
     "text": [
      "None\n"
     ]
    }
   ],
   "source": [
    "months = re.search(r\"Oct\", birthday)\n",
    "print(months) # printing the match object shows us the result, even if no match was found."
   ]
  },
  {
   "cell_type": "markdown",
   "metadata": {},
   "source": [
    "As already mentioned, regular expressions work directly with text.  You need the fancier stuff when you have more complicated strings.  We'll get to that in a moment.  First, do the following exercise."
   ]
  },
  {
   "cell_type": "markdown",
   "metadata": {},
   "source": [
    "<div class=exercise><b>Exercise</b></div>\n",
    "Consider the string \n",
    "```python\n",
    "statement = \"June is a lovely month.\"\n",
    "```\n",
    "* Use a regular expression to the find the pattern `June`.\n",
    "* Create a new string, `fragment` from `statement`, which starts just after the word `June`.\n",
    "\n",
    "Your output should be ` is a lovely month.`"
   ]
  },
  {
   "cell_type": "code",
   "execution_count": 41,
   "metadata": {
    "scrolled": true
   },
   "outputs": [
    {
     "name": "stdout",
     "output_type": "stream",
     "text": [
      " is a lovely month.\n"
     ]
    }
   ],
   "source": [
    "statement = \"June is a lovely month.\"\n",
    "regex = r\"June\"\n",
    "fragment = statement[re.search(regex, statement).end():]\n",
    "print(fragment)"
   ]
  },
  {
   "cell_type": "markdown",
   "metadata": {},
   "source": [
    "[Poll everywhere link]"
   ]
  },
  {
   "cell_type": "markdown",
   "metadata": {},
   "source": [
    "Okay, we're ready to move on to more interesting things.  We'll do this in a sequence demos."
   ]
  },
  {
   "cell_type": "markdown",
   "metadata": {},
   "source": [
    "First, let's try to get the day out of the birthday string.  We'll use some more intesting expressions to illustrate some of the important patterns."
   ]
  },
  {
   "cell_type": "markdown",
   "metadata": {},
   "source": [
    "#### We can use `\\d` to get just digits."
   ]
  },
  {
   "cell_type": "code",
   "execution_count": 42,
   "metadata": {},
   "outputs": [
    {
     "data": {
      "text/plain": [
       "<_sre.SRE_Match object; span=(5, 7), match='11'>"
      ]
     },
     "execution_count": 42,
     "metadata": {},
     "output_type": "execute_result"
    }
   ],
   "source": [
    "regex = r\"\\d+\"\n",
    "re.search(regex, birthday)"
   ]
  },
  {
   "cell_type": "markdown",
   "metadata": {},
   "source": [
    "#### We can use `[a-z]` for characters `a` to `z` and `[0-9]` for digits `0` to `9`."
   ]
  },
  {
   "cell_type": "code",
   "execution_count": 43,
   "metadata": {},
   "outputs": [
    {
     "data": {
      "text/plain": [
       "<_sre.SRE_Match object; span=(0, 4), match='June'>"
      ]
     },
     "execution_count": 43,
     "metadata": {},
     "output_type": "execute_result"
    }
   ],
   "source": [
    "regex = r\"[A-Za-z]+\"\n",
    "re.search(regex, birthday)"
   ]
  },
  {
   "cell_type": "markdown",
   "metadata": {},
   "source": [
    "Note that we had to specify both capital letters and lowercase letters.  We also needed the `+` pattern to make sure that one or more occurances of the characters were found.  If not, we would have only gotten one occurance as illustrated in the next example."
   ]
  },
  {
   "cell_type": "code",
   "execution_count": 44,
   "metadata": {},
   "outputs": [
    {
     "data": {
      "text/plain": [
       "<_sre.SRE_Match object; span=(5, 6), match='1'>"
      ]
     },
     "execution_count": 44,
     "metadata": {},
     "output_type": "execute_result"
    }
   ],
   "source": [
    "regex = r\"[0-9]\"\n",
    "re.search(regex, birthday)"
   ]
  },
  {
   "cell_type": "markdown",
   "metadata": {},
   "source": [
    "Only got the first occurance of `1`!"
   ]
  },
  {
   "cell_type": "markdown",
   "metadata": {},
   "source": [
    "#### `findall()`\n",
    "\n",
    "Let's start getting down to business.  We want the actual month and the actual day.  Not the whole thing.  That's not too hard given what we already have at our disposal."
   ]
  },
  {
   "cell_type": "code",
   "execution_count": 45,
   "metadata": {},
   "outputs": [
    {
     "name": "stdout",
     "output_type": "stream",
     "text": [
      "['June']\n",
      "['11']\n"
     ]
    }
   ],
   "source": [
    "regex_month = r\"[A-Za-z]+\"\n",
    "month = re.findall(regex_month, birthday)\n",
    "print(month)\n",
    "\n",
    "regex_day = r\"\\d+\"\n",
    "day = re.findall(regex_day, birthday)\n",
    "print(day)"
   ]
  },
  {
   "cell_type": "markdown",
   "metadata": {},
   "source": [
    "The `findall()` method returns a list of all the pattern matches.  Very cool.  Now we're ready to move on to another very important concept: *groups*."
   ]
  },
  {
   "cell_type": "markdown",
   "metadata": {},
   "source": [
    "#### Groups\n",
    "Let's say we have a busy string of birthdays:"
   ]
  },
  {
   "cell_type": "code",
   "execution_count": 46,
   "metadata": {},
   "outputs": [],
   "source": [
    "birthdays = \"June 11th, December 13th, September 21st, May 12th\""
   ]
  },
  {
   "cell_type": "markdown",
   "metadata": {},
   "source": [
    "We want to get all the months and all the days.  This looks like a job for the `findall()` method."
   ]
  },
  {
   "cell_type": "code",
   "execution_count": 47,
   "metadata": {},
   "outputs": [
    {
     "name": "stdout",
     "output_type": "stream",
     "text": [
      "['June', 'th', 'December', 'th', 'September', 'st', 'May', 'th']\n"
     ]
    }
   ],
   "source": [
    "regex = r\"[A-Za-z]+\"\n",
    "bdays = re.findall(regex, birthdays)\n",
    "print(bdays)"
   ]
  },
  {
   "cell_type": "markdown",
   "metadata": {},
   "source": [
    "That's not right.  Almost, but not quite.  We can fix things in a bunch of ways.  Let's take this opportunity to introduce groups."
   ]
  },
  {
   "cell_type": "code",
   "execution_count": 48,
   "metadata": {},
   "outputs": [
    {
     "name": "stdout",
     "output_type": "stream",
     "text": [
      "[('June', '11th'), ('December', '13th'), ('September', '21st'), ('May', '12th')]\n"
     ]
    }
   ],
   "source": [
    "regex = r\"([A-Za-z]+) (\\d+\\w+)\"\n",
    "bdays = re.findall(regex, birthdays)\n",
    "print(bdays)"
   ]
  },
  {
   "cell_type": "markdown",
   "metadata": {},
   "source": [
    "Let's try to unpack all of that:\n",
    "* The parentheses indicate a group.  So, our first set of parentheses indicate that we want a pattern of characters with one or more occurances.\n",
    "* Right after that first group, we have a space.\n",
    "* Then we have another group.  This time, the group indicates a pattern with one or more occurances of numbers followed by one or more occurances of any alphanumeric characters.\n",
    "\n",
    "We could have accomplished the same thing in a number of ways.  Here are a couple more possibilities:\n",
    "```python\n",
    "regex = r\"([A-Za-z]+)\\s(\\d+\\w+)\"\n",
    "regex = r\"([A-Za-z]+)\\s(\\w+)\"\n",
    "regex = r\"([A-Za-z]+) (\\d+[a-z]+)\"\n",
    "```\n",
    "You get the idea.\n",
    "\n",
    "It's also possible to just get the months and days separately."
   ]
  },
  {
   "cell_type": "code",
   "execution_count": 49,
   "metadata": {},
   "outputs": [
    {
     "name": "stdout",
     "output_type": "stream",
     "text": [
      "June 11\n",
      "December 13\n",
      "September 21\n",
      "May 12\n"
     ]
    }
   ],
   "source": [
    "regex = r\"[A-Za-z]+ \\d+\"\n",
    "bdays = re.findall(regex, birthdays)\n",
    "for bday in bdays:\n",
    "    print(bday)"
   ]
  },
  {
   "cell_type": "markdown",
   "metadata": {},
   "source": [
    "There are many other ways to play with these `regex` patterns.  You will get many chances to do so in your homework.  For now, let's do an exercise."
   ]
  },
  {
   "cell_type": "markdown",
   "metadata": {},
   "source": [
    "<div class=exercise><b>Exercise</b></div>\n",
    "* Open and read the file `shelterdogs.xml` into a string named `dogs`.  It should look like:\n",
    "\n",
    "```\n",
    "<?xml version=\"1.0\" encoding=\"UTF-8\"?>\n",
    "\n",
    "<dogshelter>\n",
    "    <dog id=\"dog1\">\n",
    "        <name> Cloe </name>\n",
    "        <age> 3 </age>\n",
    "        <breed> Border Collie </breed>\n",
    "        <playgroup> Yes </playgroup>\n",
    "    </dog>\n",
    "    <dog id=\"dog2\"> \n",
    "        <name> Karl </name> \n",
    "        <age> 7 </age>\n",
    "        <breed> Beagle </breed>\n",
    "        <playgroup> Yes </playgroup>\n",
    "    </dog>\n",
    "</dogshelter>\n",
    "```\n",
    "* Write a regular expression to match the dog names.  That is, you want to match the name inside the name tag: `<name> dog_name </name>`.\n",
    "  * **Hint:** Use a group.\n",
    "* Print out each name.\n",
    "\n",
    "Your output should be \n",
    "```python\n",
    "Chloe\n",
    "Karl\n",
    "```"
   ]
  },
  {
   "cell_type": "code",
   "execution_count": 97,
   "metadata": {},
   "outputs": [
    {
     "data": {
      "text/plain": [
       "['Cloe', 'Karl']"
      ]
     },
     "execution_count": 97,
     "metadata": {},
     "output_type": "execute_result"
    }
   ],
   "source": [
    "# your code here\n",
    "\n",
    "# Open file\n",
    "with open(\"data/shelterdogs.xml\", \"r\") as f:\n",
    "    dogs = f.read()\n",
    "\n",
    "regex = r\"<name> (.*) </name>\" # regex to get the dog names\n",
    "names = re.findall(regex, dogs) # find the names according to the regex\n",
    "names"
   ]
  },
  {
   "cell_type": "markdown",
   "metadata": {},
   "source": [
    "[Poll everywhere link]"
   ]
  },
  {
   "cell_type": "markdown",
   "metadata": {},
   "source": [
    "<div class=exercise><b>Exercise</b></div>\n",
    "Although you successfully completed the previous exercise, you think it would have been nicer to strip out the first two lines of the `dogs` string.  Do that now.\n",
    "\n",
    "**Hints:**\n",
    "* The first line has some special metacharacters in it (e.g. ?, \", \\n).  You can escape these by using a backslash. For example, \\? treats ? like a real question mark.  Otherwise it's the *optional* character in regular expressions.\n",
    "* Consider using [\\n]+ to deal with the end of line character.\n",
    "\n",
    "Your output should be:\n",
    "```\n",
    "<dogshelter>\n",
    "    <dog id=\"dog1\">\n",
    "        <name> Cloe </name>\n",
    "        <age> 3 </age>\n",
    "        <breed> Border Collie </breed>\n",
    "        <playgroup> Yes </playgroup>\n",
    "    </dog>\n",
    "    <dog id=\"dog2\"> \n",
    "        <name> Karl </name> \n",
    "        <age> 7 </age>\n",
    "        <breed> Beagle </breed>\n",
    "        <playgroup> Yes </playgroup>\n",
    "    </dog>\n",
    "</dogshelter>\n",
    "```"
   ]
  },
  {
   "cell_type": "code",
   "execution_count": 98,
   "metadata": {},
   "outputs": [
    {
     "name": "stdout",
     "output_type": "stream",
     "text": [
      "<dogshelter>\n",
      "    <dog id=\"dog1\">\n",
      "        <name> Cloe </name>\n",
      "        <age> 3 </age>\n",
      "        <breed> Border Collie </breed>\n",
      "        <playgroup> Yes </playgroup>\n",
      "    </dog>\n",
      "    <dog id=\"dog2\"> \n",
      "        <name> Karl </name> \n",
      "        <age> 7 </age>\n",
      "        <breed> Beagle </breed>\n",
      "        <playgroup> Yes </playgroup>\n",
      "    </dog>\n",
      "</dogshelter>\n",
      "\n"
     ]
    }
   ],
   "source": [
    "# your code here\n",
    "\n",
    "regex = r\"<\\?xml version=\\\"1.0\\\" encoding=\\\"UTF-8\\\"\\?>[\\n]+\"\n",
    "start = re.search(regex, dogs).end()\n",
    "dogs = dogs[start:]\n",
    "print(dogs)"
   ]
  },
  {
   "cell_type": "markdown",
   "metadata": {},
   "source": [
    "This ends the `I/O` introduction.  We've discussed the following:\n",
    "* How to read and write data using straight `python`.\n",
    "* How to process text data using `python`'s built-in string methods.\n",
    "* How to read and write `JSON` files.\n",
    "* How to use regular expressions to process text data.\n",
    "\n",
    "All of this was fine for the examples that we've done so far.  However, we are interested in working with very complicated text strings (possibly from log files and websites) and messy data.  Regular expressions will still be useful, but there are other tools available to make our lives easier.\n",
    "\n",
    "First, we will introduce the `python` library `pandas` for working with complicated data types.  After that, we'll introduce the *BeautifulSoup* `python` library for reading and parsing data from websites."
   ]
  },
  {
   "cell_type": "markdown",
   "metadata": {},
   "source": [
    "## Part 3:  Introduction to Pandas\n",
    "\n",
    "We'd like a data structure that can that can easily store variables of different types, that stores column names, and that we can reference by column name as well as by indexed position.  And it would be nice if this data structure came with built-in functions that we can use to manipulate it. \n",
    "\n",
    "`Pandas` is a package/library that does all of this!  The library is built on top of `numpy` (which we haven't introduced yet).  \n",
    "\n",
    "There are two basic `pandas` objects, *series* and *dataframes*, which can be thought of as enhanced versions of 1D and 2D `numpy` arrays, respectively.  \n",
    "\n",
    "For reference, here is a useful `pandas` [cheatsheet](https://drive.google.com/folderview?id=0ByIrJAE4KMTtaGhRcXkxNHhmY2M&usp=sharing) and the `pandas` [documentation](https://pandas.pydata.org/pandas-docs/stable/)."
   ]
  },
  {
   "cell_type": "code",
   "execution_count": 52,
   "metadata": {},
   "outputs": [],
   "source": [
    "import pandas as pd"
   ]
  },
  {
   "cell_type": "markdown",
   "metadata": {},
   "source": [
    "### Importing data\n",
    "\n",
    "Now let's read in some automatible data as a pandas *dataframe* structure.  "
   ]
  },
  {
   "cell_type": "code",
   "execution_count": 53,
   "metadata": {
    "scrolled": true
   },
   "outputs": [
    {
     "data": {
      "text/html": [
       "<div>\n",
       "<style scoped>\n",
       "    .dataframe tbody tr th:only-of-type {\n",
       "        vertical-align: middle;\n",
       "    }\n",
       "\n",
       "    .dataframe tbody tr th {\n",
       "        vertical-align: top;\n",
       "    }\n",
       "\n",
       "    .dataframe thead th {\n",
       "        text-align: right;\n",
       "    }\n",
       "</style>\n",
       "<table border=\"1\" class=\"dataframe\">\n",
       "  <thead>\n",
       "    <tr style=\"text-align: right;\">\n",
       "      <th></th>\n",
       "      <th>Unnamed: 0</th>\n",
       "      <th>mpg</th>\n",
       "      <th>cyl</th>\n",
       "      <th>disp</th>\n",
       "      <th>hp</th>\n",
       "      <th>drat</th>\n",
       "      <th>wt</th>\n",
       "      <th>qsec</th>\n",
       "      <th>vs</th>\n",
       "      <th>am</th>\n",
       "      <th>gear</th>\n",
       "      <th>carb</th>\n",
       "    </tr>\n",
       "  </thead>\n",
       "  <tbody>\n",
       "    <tr>\n",
       "      <th>0</th>\n",
       "      <td>Mazda RX4</td>\n",
       "      <td>21.0</td>\n",
       "      <td>6</td>\n",
       "      <td>160.0</td>\n",
       "      <td>110</td>\n",
       "      <td>3.90</td>\n",
       "      <td>2.620</td>\n",
       "      <td>16.46</td>\n",
       "      <td>0</td>\n",
       "      <td>1</td>\n",
       "      <td>4</td>\n",
       "      <td>4</td>\n",
       "    </tr>\n",
       "    <tr>\n",
       "      <th>1</th>\n",
       "      <td>Mazda RX4 Wag</td>\n",
       "      <td>21.0</td>\n",
       "      <td>6</td>\n",
       "      <td>160.0</td>\n",
       "      <td>110</td>\n",
       "      <td>3.90</td>\n",
       "      <td>2.875</td>\n",
       "      <td>17.02</td>\n",
       "      <td>0</td>\n",
       "      <td>1</td>\n",
       "      <td>4</td>\n",
       "      <td>4</td>\n",
       "    </tr>\n",
       "    <tr>\n",
       "      <th>2</th>\n",
       "      <td>Datsun 710</td>\n",
       "      <td>22.8</td>\n",
       "      <td>4</td>\n",
       "      <td>108.0</td>\n",
       "      <td>93</td>\n",
       "      <td>3.85</td>\n",
       "      <td>2.320</td>\n",
       "      <td>18.61</td>\n",
       "      <td>1</td>\n",
       "      <td>1</td>\n",
       "      <td>4</td>\n",
       "      <td>1</td>\n",
       "    </tr>\n",
       "    <tr>\n",
       "      <th>3</th>\n",
       "      <td>Hornet 4 Drive</td>\n",
       "      <td>21.4</td>\n",
       "      <td>6</td>\n",
       "      <td>258.0</td>\n",
       "      <td>110</td>\n",
       "      <td>3.08</td>\n",
       "      <td>3.215</td>\n",
       "      <td>19.44</td>\n",
       "      <td>1</td>\n",
       "      <td>0</td>\n",
       "      <td>3</td>\n",
       "      <td>1</td>\n",
       "    </tr>\n",
       "    <tr>\n",
       "      <th>4</th>\n",
       "      <td>Hornet Sportabout</td>\n",
       "      <td>18.7</td>\n",
       "      <td>8</td>\n",
       "      <td>360.0</td>\n",
       "      <td>175</td>\n",
       "      <td>3.15</td>\n",
       "      <td>3.440</td>\n",
       "      <td>17.02</td>\n",
       "      <td>0</td>\n",
       "      <td>0</td>\n",
       "      <td>3</td>\n",
       "      <td>2</td>\n",
       "    </tr>\n",
       "  </tbody>\n",
       "</table>\n",
       "</div>"
      ],
      "text/plain": [
       "          Unnamed: 0   mpg  cyl   disp   hp  drat     wt   qsec  vs  am  gear  \\\n",
       "0          Mazda RX4  21.0    6  160.0  110  3.90  2.620  16.46   0   1     4   \n",
       "1      Mazda RX4 Wag  21.0    6  160.0  110  3.90  2.875  17.02   0   1     4   \n",
       "2         Datsun 710  22.8    4  108.0   93  3.85  2.320  18.61   1   1     4   \n",
       "3     Hornet 4 Drive  21.4    6  258.0  110  3.08  3.215  19.44   1   0     3   \n",
       "4  Hornet Sportabout  18.7    8  360.0  175  3.15  3.440  17.02   0   0     3   \n",
       "\n",
       "   carb  \n",
       "0     4  \n",
       "1     4  \n",
       "2     1  \n",
       "3     1  \n",
       "4     2  "
      ]
     },
     "execution_count": 53,
     "metadata": {},
     "output_type": "execute_result"
    }
   ],
   "source": [
    "# Read in the csv files\n",
    "dfcars=pd.read_csv(\"data/mtcars.csv\")\n",
    "\n",
    "# Display the header and the first five rows of data\n",
    "dfcars.head()"
   ]
  },
  {
   "cell_type": "markdown",
   "metadata": {},
   "source": [
    "Wow!  That was easy and the output looks very nice.  What we have now is a spreadsheet with indexed rows and named columns, called a *dataframe* in pandas.  `dfcars` is an instance of the `pd.DataFrame` class, created by calling the `pd.read_csv` function, which then calls the DataFrame constructor inside of it. If the last sentence is confusing, don't worry, it will become clearer later.  The take-away is that `dfcars` is a dataframe object, and it has methods (functions) belonging to it. For example, `df.head()` is a method that shows the first 5 rows of the dataframe.\n",
    "\n",
    "A pandas dataframe is a set of columns pasted together into a spreadsheet, as shown in the schematic below.  The columns in `pandas` are called *series* objects.\n",
    "\n",
    "![](images/pandastruct.png)"
   ]
  },
  {
   "cell_type": "markdown",
   "metadata": {},
   "source": [
    "Initial data exploration is as simple as a one-liner."
   ]
  },
  {
   "cell_type": "code",
   "execution_count": 54,
   "metadata": {
    "scrolled": true
   },
   "outputs": [
    {
     "data": {
      "text/html": [
       "<div>\n",
       "<style scoped>\n",
       "    .dataframe tbody tr th:only-of-type {\n",
       "        vertical-align: middle;\n",
       "    }\n",
       "\n",
       "    .dataframe tbody tr th {\n",
       "        vertical-align: top;\n",
       "    }\n",
       "\n",
       "    .dataframe thead th {\n",
       "        text-align: right;\n",
       "    }\n",
       "</style>\n",
       "<table border=\"1\" class=\"dataframe\">\n",
       "  <thead>\n",
       "    <tr style=\"text-align: right;\">\n",
       "      <th></th>\n",
       "      <th>mpg</th>\n",
       "      <th>cyl</th>\n",
       "      <th>disp</th>\n",
       "      <th>hp</th>\n",
       "      <th>drat</th>\n",
       "      <th>wt</th>\n",
       "      <th>qsec</th>\n",
       "      <th>vs</th>\n",
       "      <th>am</th>\n",
       "      <th>gear</th>\n",
       "      <th>carb</th>\n",
       "    </tr>\n",
       "  </thead>\n",
       "  <tbody>\n",
       "    <tr>\n",
       "      <th>count</th>\n",
       "      <td>32.000000</td>\n",
       "      <td>32.000000</td>\n",
       "      <td>32.000000</td>\n",
       "      <td>32.000000</td>\n",
       "      <td>32.000000</td>\n",
       "      <td>32.000000</td>\n",
       "      <td>32.000000</td>\n",
       "      <td>32.000000</td>\n",
       "      <td>32.000000</td>\n",
       "      <td>32.000000</td>\n",
       "      <td>32.0000</td>\n",
       "    </tr>\n",
       "    <tr>\n",
       "      <th>mean</th>\n",
       "      <td>20.090625</td>\n",
       "      <td>6.187500</td>\n",
       "      <td>230.721875</td>\n",
       "      <td>146.687500</td>\n",
       "      <td>3.596563</td>\n",
       "      <td>3.217250</td>\n",
       "      <td>17.848750</td>\n",
       "      <td>0.437500</td>\n",
       "      <td>0.406250</td>\n",
       "      <td>3.687500</td>\n",
       "      <td>2.8125</td>\n",
       "    </tr>\n",
       "    <tr>\n",
       "      <th>std</th>\n",
       "      <td>6.026948</td>\n",
       "      <td>1.785922</td>\n",
       "      <td>123.938694</td>\n",
       "      <td>68.562868</td>\n",
       "      <td>0.534679</td>\n",
       "      <td>0.978457</td>\n",
       "      <td>1.786943</td>\n",
       "      <td>0.504016</td>\n",
       "      <td>0.498991</td>\n",
       "      <td>0.737804</td>\n",
       "      <td>1.6152</td>\n",
       "    </tr>\n",
       "    <tr>\n",
       "      <th>min</th>\n",
       "      <td>10.400000</td>\n",
       "      <td>4.000000</td>\n",
       "      <td>71.100000</td>\n",
       "      <td>52.000000</td>\n",
       "      <td>2.760000</td>\n",
       "      <td>1.513000</td>\n",
       "      <td>14.500000</td>\n",
       "      <td>0.000000</td>\n",
       "      <td>0.000000</td>\n",
       "      <td>3.000000</td>\n",
       "      <td>1.0000</td>\n",
       "    </tr>\n",
       "    <tr>\n",
       "      <th>25%</th>\n",
       "      <td>15.425000</td>\n",
       "      <td>4.000000</td>\n",
       "      <td>120.825000</td>\n",
       "      <td>96.500000</td>\n",
       "      <td>3.080000</td>\n",
       "      <td>2.581250</td>\n",
       "      <td>16.892500</td>\n",
       "      <td>0.000000</td>\n",
       "      <td>0.000000</td>\n",
       "      <td>3.000000</td>\n",
       "      <td>2.0000</td>\n",
       "    </tr>\n",
       "    <tr>\n",
       "      <th>50%</th>\n",
       "      <td>19.200000</td>\n",
       "      <td>6.000000</td>\n",
       "      <td>196.300000</td>\n",
       "      <td>123.000000</td>\n",
       "      <td>3.695000</td>\n",
       "      <td>3.325000</td>\n",
       "      <td>17.710000</td>\n",
       "      <td>0.000000</td>\n",
       "      <td>0.000000</td>\n",
       "      <td>4.000000</td>\n",
       "      <td>2.0000</td>\n",
       "    </tr>\n",
       "    <tr>\n",
       "      <th>75%</th>\n",
       "      <td>22.800000</td>\n",
       "      <td>8.000000</td>\n",
       "      <td>326.000000</td>\n",
       "      <td>180.000000</td>\n",
       "      <td>3.920000</td>\n",
       "      <td>3.610000</td>\n",
       "      <td>18.900000</td>\n",
       "      <td>1.000000</td>\n",
       "      <td>1.000000</td>\n",
       "      <td>4.000000</td>\n",
       "      <td>4.0000</td>\n",
       "    </tr>\n",
       "    <tr>\n",
       "      <th>max</th>\n",
       "      <td>33.900000</td>\n",
       "      <td>8.000000</td>\n",
       "      <td>472.000000</td>\n",
       "      <td>335.000000</td>\n",
       "      <td>4.930000</td>\n",
       "      <td>5.424000</td>\n",
       "      <td>22.900000</td>\n",
       "      <td>1.000000</td>\n",
       "      <td>1.000000</td>\n",
       "      <td>5.000000</td>\n",
       "      <td>8.0000</td>\n",
       "    </tr>\n",
       "  </tbody>\n",
       "</table>\n",
       "</div>"
      ],
      "text/plain": [
       "             mpg        cyl        disp          hp       drat         wt  \\\n",
       "count  32.000000  32.000000   32.000000   32.000000  32.000000  32.000000   \n",
       "mean   20.090625   6.187500  230.721875  146.687500   3.596563   3.217250   \n",
       "std     6.026948   1.785922  123.938694   68.562868   0.534679   0.978457   \n",
       "min    10.400000   4.000000   71.100000   52.000000   2.760000   1.513000   \n",
       "25%    15.425000   4.000000  120.825000   96.500000   3.080000   2.581250   \n",
       "50%    19.200000   6.000000  196.300000  123.000000   3.695000   3.325000   \n",
       "75%    22.800000   8.000000  326.000000  180.000000   3.920000   3.610000   \n",
       "max    33.900000   8.000000  472.000000  335.000000   4.930000   5.424000   \n",
       "\n",
       "            qsec         vs         am       gear     carb  \n",
       "count  32.000000  32.000000  32.000000  32.000000  32.0000  \n",
       "mean   17.848750   0.437500   0.406250   3.687500   2.8125  \n",
       "std     1.786943   0.504016   0.498991   0.737804   1.6152  \n",
       "min    14.500000   0.000000   0.000000   3.000000   1.0000  \n",
       "25%    16.892500   0.000000   0.000000   3.000000   2.0000  \n",
       "50%    17.710000   0.000000   0.000000   4.000000   2.0000  \n",
       "75%    18.900000   1.000000   1.000000   4.000000   4.0000  \n",
       "max    22.900000   1.000000   1.000000   5.000000   8.0000  "
      ]
     },
     "execution_count": 54,
     "metadata": {},
     "output_type": "execute_result"
    }
   ],
   "source": [
    "dfcars.describe()"
   ]
  },
  {
   "cell_type": "markdown",
   "metadata": {},
   "source": [
    "That's about as simple as you could ever ask for.\n",
    "\n",
    "Returning to the `dfcars` dataframe, we notice that the first column has a bad name: \"Unnamed: 0\". Let's **clean** it up. "
   ]
  },
  {
   "cell_type": "code",
   "execution_count": 55,
   "metadata": {},
   "outputs": [
    {
     "data": {
      "text/html": [
       "<div>\n",
       "<style scoped>\n",
       "    .dataframe tbody tr th:only-of-type {\n",
       "        vertical-align: middle;\n",
       "    }\n",
       "\n",
       "    .dataframe tbody tr th {\n",
       "        vertical-align: top;\n",
       "    }\n",
       "\n",
       "    .dataframe thead th {\n",
       "        text-align: right;\n",
       "    }\n",
       "</style>\n",
       "<table border=\"1\" class=\"dataframe\">\n",
       "  <thead>\n",
       "    <tr style=\"text-align: right;\">\n",
       "      <th></th>\n",
       "      <th>car name</th>\n",
       "      <th>mpg</th>\n",
       "      <th>cyl</th>\n",
       "      <th>disp</th>\n",
       "      <th>hp</th>\n",
       "      <th>drat</th>\n",
       "      <th>wt</th>\n",
       "      <th>qsec</th>\n",
       "      <th>vs</th>\n",
       "      <th>am</th>\n",
       "      <th>gear</th>\n",
       "      <th>carb</th>\n",
       "    </tr>\n",
       "  </thead>\n",
       "  <tbody>\n",
       "    <tr>\n",
       "      <th>0</th>\n",
       "      <td>Mazda RX4</td>\n",
       "      <td>21.0</td>\n",
       "      <td>6</td>\n",
       "      <td>160.0</td>\n",
       "      <td>110</td>\n",
       "      <td>3.90</td>\n",
       "      <td>2.620</td>\n",
       "      <td>16.46</td>\n",
       "      <td>0</td>\n",
       "      <td>1</td>\n",
       "      <td>4</td>\n",
       "      <td>4</td>\n",
       "    </tr>\n",
       "    <tr>\n",
       "      <th>1</th>\n",
       "      <td>Mazda RX4 Wag</td>\n",
       "      <td>21.0</td>\n",
       "      <td>6</td>\n",
       "      <td>160.0</td>\n",
       "      <td>110</td>\n",
       "      <td>3.90</td>\n",
       "      <td>2.875</td>\n",
       "      <td>17.02</td>\n",
       "      <td>0</td>\n",
       "      <td>1</td>\n",
       "      <td>4</td>\n",
       "      <td>4</td>\n",
       "    </tr>\n",
       "    <tr>\n",
       "      <th>2</th>\n",
       "      <td>Datsun 710</td>\n",
       "      <td>22.8</td>\n",
       "      <td>4</td>\n",
       "      <td>108.0</td>\n",
       "      <td>93</td>\n",
       "      <td>3.85</td>\n",
       "      <td>2.320</td>\n",
       "      <td>18.61</td>\n",
       "      <td>1</td>\n",
       "      <td>1</td>\n",
       "      <td>4</td>\n",
       "      <td>1</td>\n",
       "    </tr>\n",
       "    <tr>\n",
       "      <th>3</th>\n",
       "      <td>Hornet 4 Drive</td>\n",
       "      <td>21.4</td>\n",
       "      <td>6</td>\n",
       "      <td>258.0</td>\n",
       "      <td>110</td>\n",
       "      <td>3.08</td>\n",
       "      <td>3.215</td>\n",
       "      <td>19.44</td>\n",
       "      <td>1</td>\n",
       "      <td>0</td>\n",
       "      <td>3</td>\n",
       "      <td>1</td>\n",
       "    </tr>\n",
       "    <tr>\n",
       "      <th>4</th>\n",
       "      <td>Hornet Sportabout</td>\n",
       "      <td>18.7</td>\n",
       "      <td>8</td>\n",
       "      <td>360.0</td>\n",
       "      <td>175</td>\n",
       "      <td>3.15</td>\n",
       "      <td>3.440</td>\n",
       "      <td>17.02</td>\n",
       "      <td>0</td>\n",
       "      <td>0</td>\n",
       "      <td>3</td>\n",
       "      <td>2</td>\n",
       "    </tr>\n",
       "  </tbody>\n",
       "</table>\n",
       "</div>"
      ],
      "text/plain": [
       "            car name   mpg  cyl   disp   hp  drat     wt   qsec  vs  am  gear  \\\n",
       "0          Mazda RX4  21.0    6  160.0  110  3.90  2.620  16.46   0   1     4   \n",
       "1      Mazda RX4 Wag  21.0    6  160.0  110  3.90  2.875  17.02   0   1     4   \n",
       "2         Datsun 710  22.8    4  108.0   93  3.85  2.320  18.61   1   1     4   \n",
       "3     Hornet 4 Drive  21.4    6  258.0  110  3.08  3.215  19.44   1   0     3   \n",
       "4  Hornet Sportabout  18.7    8  360.0  175  3.15  3.440  17.02   0   0     3   \n",
       "\n",
       "   carb  \n",
       "0     4  \n",
       "1     4  \n",
       "2     1  \n",
       "3     1  \n",
       "4     2  "
      ]
     },
     "execution_count": 55,
     "metadata": {},
     "output_type": "execute_result"
    }
   ],
   "source": [
    "dfcars=dfcars.rename(columns={\"Unnamed: 0\":\"car name\"})\n",
    "dfcars.head()"
   ]
  },
  {
   "cell_type": "markdown",
   "metadata": {},
   "source": [
    "### Dataframes and Series"
   ]
  },
  {
   "cell_type": "markdown",
   "metadata": {},
   "source": [
    "Now that we have our automobile data loaded as a dataframe, we'd like to be able to manipulate it and its series, say by calculating statistics and plotting distributions of features.  Fortunately, like arrays and other containers, dataframes and series are listy, so we can apply the list operations we already know to these new containers.  Below we explore our dataframe and its properties."
   ]
  },
  {
   "cell_type": "markdown",
   "metadata": {},
   "source": [
    "#### set length\n",
    "\n",
    " The attribute `shape` tells us the dimension of the dataframe, the number of rows and columns in the dataframe, `(rows, columns)`.  Somewhat strangely, but fairly usefully, (which is why the developers of Pandas probably did it ) the `len` function outputs the number of rows in the dataframe, not the number of columns as we'd expect based on how dataframes are built up from pandas series (columns).  "
   ]
  },
  {
   "cell_type": "code",
   "execution_count": 56,
   "metadata": {},
   "outputs": [
    {
     "name": "stdout",
     "output_type": "stream",
     "text": [
      "(32, 12)\n",
      "32\n",
      "32\n"
     ]
    }
   ],
   "source": [
    "print(dfcars.shape)     # 12 columns, each of length 32\n",
    "print(len(dfcars))      # the number of rows in the dataframe, also the length of a series\n",
    "print(len(dfcars.mpg))  # the length of a series"
   ]
  },
  {
   "cell_type": "markdown",
   "metadata": {},
   "source": [
    "#### iteration via loops\n",
    "\n",
    " One consequence of the column-wise construction of dataframes is that you cannot easily iterate over the rows of the dataframe.  Instead, we iterate over the columns, for example, by printing out the column names via a for loop."
   ]
  },
  {
   "cell_type": "code",
   "execution_count": 57,
   "metadata": {},
   "outputs": [
    {
     "name": "stdout",
     "output_type": "stream",
     "text": [
      "car name\n",
      "mpg\n",
      "cyl\n",
      "disp\n",
      "hp\n",
      "drat\n",
      "wt\n",
      "qsec\n",
      "vs\n",
      "am\n",
      "gear\n",
      "carb\n"
     ]
    }
   ],
   "source": [
    "for ele in dfcars: # iterating iterates over column names though, like a dictionary\n",
    "    print(ele)"
   ]
  },
  {
   "cell_type": "markdown",
   "metadata": {},
   "source": [
    "Or we can call the attribute `columns`.  Notice the `Index` in the output below. We'll return to this shortly. "
   ]
  },
  {
   "cell_type": "code",
   "execution_count": 58,
   "metadata": {},
   "outputs": [
    {
     "data": {
      "text/plain": [
       "Index(['car name', 'mpg', 'cyl', 'disp', 'hp', 'drat', 'wt', 'qsec', 'vs',\n",
       "       'am', 'gear', 'carb'],\n",
       "      dtype='object')"
      ]
     },
     "execution_count": 58,
     "metadata": {},
     "output_type": "execute_result"
    }
   ],
   "source": [
    "dfcars.columns"
   ]
  },
  {
   "cell_type": "markdown",
   "metadata": {},
   "source": [
    "We can iterate series in the same way that we iterate lists. Here we print out the number of cylinders for each of the 32 vehicles.  However, you shouldn't do this in general.  Try to use the built-in `pandas` methods."
   ]
  },
  {
   "cell_type": "code",
   "execution_count": 59,
   "metadata": {},
   "outputs": [
    {
     "name": "stdout",
     "output_type": "stream",
     "text": [
      "6\n",
      "6\n",
      "4\n",
      "6\n",
      "8\n",
      "6\n",
      "8\n",
      "4\n",
      "4\n",
      "6\n",
      "6\n",
      "8\n",
      "8\n",
      "8\n",
      "8\n",
      "8\n",
      "8\n",
      "4\n",
      "4\n",
      "4\n",
      "4\n",
      "8\n",
      "8\n",
      "8\n",
      "8\n",
      "4\n",
      "4\n",
      "4\n",
      "8\n",
      "6\n",
      "8\n",
      "4\n"
     ]
    }
   ],
   "source": [
    "for ele in dfcars.cyl:\n",
    "    print(ele)"
   ]
  },
  {
   "cell_type": "markdown",
   "metadata": {},
   "source": [
    "How do you iterate over rows?  Dataframes are put together column-by-column and you should be able to write code which never requires iteration over rows. But if you still find a need to iterate over rows, you can do it using `itertuples`.  See the documentation.  \n",
    "\n",
    "**In general direct iteration through pandas series/dataframes is a bad idea.**\n",
    "\n",
    "Instead, you should manipulate dataframes and series with `pandas` methods which are written to be very fast (i.e. they access series and dataframes at the `C` level)."
   ]
  },
  {
   "cell_type": "markdown",
   "metadata": {},
   "source": [
    "#### slicing\n",
    "\n",
    "Let's see how indexing works in dataframes.  Like lists in `python`, dataframes and series are zero-indexed."
   ]
  },
  {
   "cell_type": "code",
   "execution_count": 60,
   "metadata": {},
   "outputs": [
    {
     "data": {
      "text/html": [
       "<div>\n",
       "<style scoped>\n",
       "    .dataframe tbody tr th:only-of-type {\n",
       "        vertical-align: middle;\n",
       "    }\n",
       "\n",
       "    .dataframe tbody tr th {\n",
       "        vertical-align: top;\n",
       "    }\n",
       "\n",
       "    .dataframe thead th {\n",
       "        text-align: right;\n",
       "    }\n",
       "</style>\n",
       "<table border=\"1\" class=\"dataframe\">\n",
       "  <thead>\n",
       "    <tr style=\"text-align: right;\">\n",
       "      <th></th>\n",
       "      <th>car name</th>\n",
       "      <th>mpg</th>\n",
       "      <th>cyl</th>\n",
       "      <th>disp</th>\n",
       "      <th>hp</th>\n",
       "      <th>drat</th>\n",
       "      <th>wt</th>\n",
       "      <th>qsec</th>\n",
       "      <th>vs</th>\n",
       "      <th>am</th>\n",
       "      <th>gear</th>\n",
       "      <th>carb</th>\n",
       "    </tr>\n",
       "  </thead>\n",
       "  <tbody>\n",
       "    <tr>\n",
       "      <th>0</th>\n",
       "      <td>Mazda RX4</td>\n",
       "      <td>21.0</td>\n",
       "      <td>6</td>\n",
       "      <td>160.0</td>\n",
       "      <td>110</td>\n",
       "      <td>3.90</td>\n",
       "      <td>2.620</td>\n",
       "      <td>16.46</td>\n",
       "      <td>0</td>\n",
       "      <td>1</td>\n",
       "      <td>4</td>\n",
       "      <td>4</td>\n",
       "    </tr>\n",
       "    <tr>\n",
       "      <th>1</th>\n",
       "      <td>Mazda RX4 Wag</td>\n",
       "      <td>21.0</td>\n",
       "      <td>6</td>\n",
       "      <td>160.0</td>\n",
       "      <td>110</td>\n",
       "      <td>3.90</td>\n",
       "      <td>2.875</td>\n",
       "      <td>17.02</td>\n",
       "      <td>0</td>\n",
       "      <td>1</td>\n",
       "      <td>4</td>\n",
       "      <td>4</td>\n",
       "    </tr>\n",
       "    <tr>\n",
       "      <th>2</th>\n",
       "      <td>Datsun 710</td>\n",
       "      <td>22.8</td>\n",
       "      <td>4</td>\n",
       "      <td>108.0</td>\n",
       "      <td>93</td>\n",
       "      <td>3.85</td>\n",
       "      <td>2.320</td>\n",
       "      <td>18.61</td>\n",
       "      <td>1</td>\n",
       "      <td>1</td>\n",
       "      <td>4</td>\n",
       "      <td>1</td>\n",
       "    </tr>\n",
       "    <tr>\n",
       "      <th>3</th>\n",
       "      <td>Hornet 4 Drive</td>\n",
       "      <td>21.4</td>\n",
       "      <td>6</td>\n",
       "      <td>258.0</td>\n",
       "      <td>110</td>\n",
       "      <td>3.08</td>\n",
       "      <td>3.215</td>\n",
       "      <td>19.44</td>\n",
       "      <td>1</td>\n",
       "      <td>0</td>\n",
       "      <td>3</td>\n",
       "      <td>1</td>\n",
       "    </tr>\n",
       "    <tr>\n",
       "      <th>4</th>\n",
       "      <td>Hornet Sportabout</td>\n",
       "      <td>18.7</td>\n",
       "      <td>8</td>\n",
       "      <td>360.0</td>\n",
       "      <td>175</td>\n",
       "      <td>3.15</td>\n",
       "      <td>3.440</td>\n",
       "      <td>17.02</td>\n",
       "      <td>0</td>\n",
       "      <td>0</td>\n",
       "      <td>3</td>\n",
       "      <td>2</td>\n",
       "    </tr>\n",
       "  </tbody>\n",
       "</table>\n",
       "</div>"
      ],
      "text/plain": [
       "            car name   mpg  cyl   disp   hp  drat     wt   qsec  vs  am  gear  \\\n",
       "0          Mazda RX4  21.0    6  160.0  110  3.90  2.620  16.46   0   1     4   \n",
       "1      Mazda RX4 Wag  21.0    6  160.0  110  3.90  2.875  17.02   0   1     4   \n",
       "2         Datsun 710  22.8    4  108.0   93  3.85  2.320  18.61   1   1     4   \n",
       "3     Hornet 4 Drive  21.4    6  258.0  110  3.08  3.215  19.44   1   0     3   \n",
       "4  Hornet Sportabout  18.7    8  360.0  175  3.15  3.440  17.02   0   0     3   \n",
       "\n",
       "   carb  \n",
       "0     4  \n",
       "1     4  \n",
       "2     1  \n",
       "3     1  \n",
       "4     2  "
      ]
     },
     "execution_count": 60,
     "metadata": {},
     "output_type": "execute_result"
    }
   ],
   "source": [
    "dfcars.head()"
   ]
  },
  {
   "cell_type": "code",
   "execution_count": 61,
   "metadata": {},
   "outputs": [
    {
     "name": "stdout",
     "output_type": "stream",
     "text": [
      "[0, 1, 2, 3, 4, 5, 6, 7, 8, 9, 10, 11, 12, 13, 14, 15, 16, 17, 18, 19, 20, 21, 22, 23, 24, 25, 26, 27, 28, 29, 30, 31]\n"
     ]
    },
    {
     "data": {
      "text/plain": [
       "RangeIndex(start=0, stop=32, step=1)"
      ]
     },
     "execution_count": 61,
     "metadata": {},
     "output_type": "execute_result"
    }
   ],
   "source": [
    "# index for the dataframe\n",
    "print(list(dfcars.index))\n",
    "\n",
    "# index for the cyl series\n",
    "dfcars.cyl.index"
   ]
  },
  {
   "cell_type": "markdown",
   "metadata": {},
   "source": [
    "There are two ways to index dataframes:\n",
    "1. the `loc` property indexes by label name\n",
    "2. the `iloc` indexes by position in the index.\n",
    "\n",
    "We'll illustrate this with a slightly modified version of `dfcars`, created by relabeling the row indices of `dfcars` to start at $5$ instead of $0$."
   ]
  },
  {
   "cell_type": "code",
   "execution_count": 62,
   "metadata": {},
   "outputs": [
    {
     "data": {
      "text/html": [
       "<div>\n",
       "<style scoped>\n",
       "    .dataframe tbody tr th:only-of-type {\n",
       "        vertical-align: middle;\n",
       "    }\n",
       "\n",
       "    .dataframe tbody tr th {\n",
       "        vertical-align: top;\n",
       "    }\n",
       "\n",
       "    .dataframe thead th {\n",
       "        text-align: right;\n",
       "    }\n",
       "</style>\n",
       "<table border=\"1\" class=\"dataframe\">\n",
       "  <thead>\n",
       "    <tr style=\"text-align: right;\">\n",
       "      <th></th>\n",
       "      <th>car name</th>\n",
       "      <th>mpg</th>\n",
       "      <th>cyl</th>\n",
       "      <th>disp</th>\n",
       "      <th>hp</th>\n",
       "      <th>drat</th>\n",
       "      <th>wt</th>\n",
       "      <th>qsec</th>\n",
       "      <th>vs</th>\n",
       "      <th>am</th>\n",
       "      <th>gear</th>\n",
       "      <th>carb</th>\n",
       "    </tr>\n",
       "  </thead>\n",
       "  <tbody>\n",
       "    <tr>\n",
       "      <th>5</th>\n",
       "      <td>Valiant</td>\n",
       "      <td>18.1</td>\n",
       "      <td>6.0</td>\n",
       "      <td>225.0</td>\n",
       "      <td>105.0</td>\n",
       "      <td>2.76</td>\n",
       "      <td>3.46</td>\n",
       "      <td>20.22</td>\n",
       "      <td>1.0</td>\n",
       "      <td>0.0</td>\n",
       "      <td>3.0</td>\n",
       "      <td>1.0</td>\n",
       "    </tr>\n",
       "    <tr>\n",
       "      <th>6</th>\n",
       "      <td>Duster 360</td>\n",
       "      <td>14.3</td>\n",
       "      <td>8.0</td>\n",
       "      <td>360.0</td>\n",
       "      <td>245.0</td>\n",
       "      <td>3.21</td>\n",
       "      <td>3.57</td>\n",
       "      <td>15.84</td>\n",
       "      <td>0.0</td>\n",
       "      <td>0.0</td>\n",
       "      <td>3.0</td>\n",
       "      <td>4.0</td>\n",
       "    </tr>\n",
       "    <tr>\n",
       "      <th>7</th>\n",
       "      <td>Merc 240D</td>\n",
       "      <td>24.4</td>\n",
       "      <td>4.0</td>\n",
       "      <td>146.7</td>\n",
       "      <td>62.0</td>\n",
       "      <td>3.69</td>\n",
       "      <td>3.19</td>\n",
       "      <td>20.00</td>\n",
       "      <td>1.0</td>\n",
       "      <td>0.0</td>\n",
       "      <td>4.0</td>\n",
       "      <td>2.0</td>\n",
       "    </tr>\n",
       "    <tr>\n",
       "      <th>8</th>\n",
       "      <td>Merc 230</td>\n",
       "      <td>22.8</td>\n",
       "      <td>4.0</td>\n",
       "      <td>140.8</td>\n",
       "      <td>95.0</td>\n",
       "      <td>3.92</td>\n",
       "      <td>3.15</td>\n",
       "      <td>22.90</td>\n",
       "      <td>1.0</td>\n",
       "      <td>0.0</td>\n",
       "      <td>4.0</td>\n",
       "      <td>2.0</td>\n",
       "    </tr>\n",
       "    <tr>\n",
       "      <th>9</th>\n",
       "      <td>Merc 280</td>\n",
       "      <td>19.2</td>\n",
       "      <td>6.0</td>\n",
       "      <td>167.6</td>\n",
       "      <td>123.0</td>\n",
       "      <td>3.92</td>\n",
       "      <td>3.44</td>\n",
       "      <td>18.30</td>\n",
       "      <td>1.0</td>\n",
       "      <td>0.0</td>\n",
       "      <td>4.0</td>\n",
       "      <td>4.0</td>\n",
       "    </tr>\n",
       "  </tbody>\n",
       "</table>\n",
       "</div>"
      ],
      "text/plain": [
       "     car name   mpg  cyl   disp     hp  drat    wt   qsec   vs   am  gear  \\\n",
       "5     Valiant  18.1  6.0  225.0  105.0  2.76  3.46  20.22  1.0  0.0   3.0   \n",
       "6  Duster 360  14.3  8.0  360.0  245.0  3.21  3.57  15.84  0.0  0.0   3.0   \n",
       "7   Merc 240D  24.4  4.0  146.7   62.0  3.69  3.19  20.00  1.0  0.0   4.0   \n",
       "8    Merc 230  22.8  4.0  140.8   95.0  3.92  3.15  22.90  1.0  0.0   4.0   \n",
       "9    Merc 280  19.2  6.0  167.6  123.0  3.92  3.44  18.30  1.0  0.0   4.0   \n",
       "\n",
       "   carb  \n",
       "5   1.0  \n",
       "6   4.0  \n",
       "7   2.0  \n",
       "8   2.0  \n",
       "9   4.0  "
      ]
     },
     "execution_count": 62,
     "metadata": {},
     "output_type": "execute_result"
    }
   ],
   "source": [
    "# create values from 5 to 36\n",
    "new_index = [i+5 for i in range(32)]\n",
    "\n",
    "# new dataframe with indexed rows from 5 to 36\n",
    "dfcars_reindex = dfcars.reindex(new_index)\n",
    "dfcars_reindex.head()"
   ]
  },
  {
   "cell_type": "markdown",
   "metadata": {},
   "source": [
    "We now return the first three rows of `dfcars_reindex` in two different ways, first with `iloc` and then with `loc`. \n",
    "\n",
    "With `iloc` we use the command,"
   ]
  },
  {
   "cell_type": "code",
   "execution_count": 63,
   "metadata": {},
   "outputs": [
    {
     "data": {
      "text/html": [
       "<div>\n",
       "<style scoped>\n",
       "    .dataframe tbody tr th:only-of-type {\n",
       "        vertical-align: middle;\n",
       "    }\n",
       "\n",
       "    .dataframe tbody tr th {\n",
       "        vertical-align: top;\n",
       "    }\n",
       "\n",
       "    .dataframe thead th {\n",
       "        text-align: right;\n",
       "    }\n",
       "</style>\n",
       "<table border=\"1\" class=\"dataframe\">\n",
       "  <thead>\n",
       "    <tr style=\"text-align: right;\">\n",
       "      <th></th>\n",
       "      <th>car name</th>\n",
       "      <th>mpg</th>\n",
       "      <th>cyl</th>\n",
       "      <th>disp</th>\n",
       "      <th>hp</th>\n",
       "      <th>drat</th>\n",
       "      <th>wt</th>\n",
       "      <th>qsec</th>\n",
       "      <th>vs</th>\n",
       "      <th>am</th>\n",
       "      <th>gear</th>\n",
       "      <th>carb</th>\n",
       "    </tr>\n",
       "  </thead>\n",
       "  <tbody>\n",
       "    <tr>\n",
       "      <th>5</th>\n",
       "      <td>Valiant</td>\n",
       "      <td>18.1</td>\n",
       "      <td>6.0</td>\n",
       "      <td>225.0</td>\n",
       "      <td>105.0</td>\n",
       "      <td>2.76</td>\n",
       "      <td>3.46</td>\n",
       "      <td>20.22</td>\n",
       "      <td>1.0</td>\n",
       "      <td>0.0</td>\n",
       "      <td>3.0</td>\n",
       "      <td>1.0</td>\n",
       "    </tr>\n",
       "    <tr>\n",
       "      <th>6</th>\n",
       "      <td>Duster 360</td>\n",
       "      <td>14.3</td>\n",
       "      <td>8.0</td>\n",
       "      <td>360.0</td>\n",
       "      <td>245.0</td>\n",
       "      <td>3.21</td>\n",
       "      <td>3.57</td>\n",
       "      <td>15.84</td>\n",
       "      <td>0.0</td>\n",
       "      <td>0.0</td>\n",
       "      <td>3.0</td>\n",
       "      <td>4.0</td>\n",
       "    </tr>\n",
       "    <tr>\n",
       "      <th>7</th>\n",
       "      <td>Merc 240D</td>\n",
       "      <td>24.4</td>\n",
       "      <td>4.0</td>\n",
       "      <td>146.7</td>\n",
       "      <td>62.0</td>\n",
       "      <td>3.69</td>\n",
       "      <td>3.19</td>\n",
       "      <td>20.00</td>\n",
       "      <td>1.0</td>\n",
       "      <td>0.0</td>\n",
       "      <td>4.0</td>\n",
       "      <td>2.0</td>\n",
       "    </tr>\n",
       "  </tbody>\n",
       "</table>\n",
       "</div>"
      ],
      "text/plain": [
       "     car name   mpg  cyl   disp     hp  drat    wt   qsec   vs   am  gear  \\\n",
       "5     Valiant  18.1  6.0  225.0  105.0  2.76  3.46  20.22  1.0  0.0   3.0   \n",
       "6  Duster 360  14.3  8.0  360.0  245.0  3.21  3.57  15.84  0.0  0.0   3.0   \n",
       "7   Merc 240D  24.4  4.0  146.7   62.0  3.69  3.19  20.00  1.0  0.0   4.0   \n",
       "\n",
       "   carb  \n",
       "5   1.0  \n",
       "6   4.0  \n",
       "7   2.0  "
      ]
     },
     "execution_count": 63,
     "metadata": {},
     "output_type": "execute_result"
    }
   ],
   "source": [
    "dfcars_reindex.iloc[0:3]"
   ]
  },
  {
   "cell_type": "markdown",
   "metadata": {},
   "source": [
    "since `iloc` uses the position in the index. Notice that the argument `0:3` with `iloc` returns the first three rows of the dataframe, which have label names 5, 6, and 7. \n",
    "\n",
    "To access the same rows with `loc`, we write,"
   ]
  },
  {
   "cell_type": "code",
   "execution_count": 64,
   "metadata": {},
   "outputs": [
    {
     "data": {
      "text/html": [
       "<div>\n",
       "<style scoped>\n",
       "    .dataframe tbody tr th:only-of-type {\n",
       "        vertical-align: middle;\n",
       "    }\n",
       "\n",
       "    .dataframe tbody tr th {\n",
       "        vertical-align: top;\n",
       "    }\n",
       "\n",
       "    .dataframe thead th {\n",
       "        text-align: right;\n",
       "    }\n",
       "</style>\n",
       "<table border=\"1\" class=\"dataframe\">\n",
       "  <thead>\n",
       "    <tr style=\"text-align: right;\">\n",
       "      <th></th>\n",
       "      <th>car name</th>\n",
       "      <th>mpg</th>\n",
       "      <th>cyl</th>\n",
       "      <th>disp</th>\n",
       "      <th>hp</th>\n",
       "      <th>drat</th>\n",
       "      <th>wt</th>\n",
       "      <th>qsec</th>\n",
       "      <th>vs</th>\n",
       "      <th>am</th>\n",
       "      <th>gear</th>\n",
       "      <th>carb</th>\n",
       "    </tr>\n",
       "  </thead>\n",
       "  <tbody>\n",
       "    <tr>\n",
       "      <th>5</th>\n",
       "      <td>Valiant</td>\n",
       "      <td>18.1</td>\n",
       "      <td>6.0</td>\n",
       "      <td>225.0</td>\n",
       "      <td>105.0</td>\n",
       "      <td>2.76</td>\n",
       "      <td>3.46</td>\n",
       "      <td>20.22</td>\n",
       "      <td>1.0</td>\n",
       "      <td>0.0</td>\n",
       "      <td>3.0</td>\n",
       "      <td>1.0</td>\n",
       "    </tr>\n",
       "    <tr>\n",
       "      <th>6</th>\n",
       "      <td>Duster 360</td>\n",
       "      <td>14.3</td>\n",
       "      <td>8.0</td>\n",
       "      <td>360.0</td>\n",
       "      <td>245.0</td>\n",
       "      <td>3.21</td>\n",
       "      <td>3.57</td>\n",
       "      <td>15.84</td>\n",
       "      <td>0.0</td>\n",
       "      <td>0.0</td>\n",
       "      <td>3.0</td>\n",
       "      <td>4.0</td>\n",
       "    </tr>\n",
       "    <tr>\n",
       "      <th>7</th>\n",
       "      <td>Merc 240D</td>\n",
       "      <td>24.4</td>\n",
       "      <td>4.0</td>\n",
       "      <td>146.7</td>\n",
       "      <td>62.0</td>\n",
       "      <td>3.69</td>\n",
       "      <td>3.19</td>\n",
       "      <td>20.00</td>\n",
       "      <td>1.0</td>\n",
       "      <td>0.0</td>\n",
       "      <td>4.0</td>\n",
       "      <td>2.0</td>\n",
       "    </tr>\n",
       "  </tbody>\n",
       "</table>\n",
       "</div>"
      ],
      "text/plain": [
       "     car name   mpg  cyl   disp     hp  drat    wt   qsec   vs   am  gear  \\\n",
       "5     Valiant  18.1  6.0  225.0  105.0  2.76  3.46  20.22  1.0  0.0   3.0   \n",
       "6  Duster 360  14.3  8.0  360.0  245.0  3.21  3.57  15.84  0.0  0.0   3.0   \n",
       "7   Merc 240D  24.4  4.0  146.7   62.0  3.69  3.19  20.00  1.0  0.0   4.0   \n",
       "\n",
       "   carb  \n",
       "5   1.0  \n",
       "6   4.0  \n",
       "7   2.0  "
      ]
     },
     "execution_count": 64,
     "metadata": {},
     "output_type": "execute_result"
    }
   ],
   "source": [
    "dfcars_reindex.loc[0:7] # or dfcars_reindex.loc[5:7]"
   ]
  },
  {
   "cell_type": "markdown",
   "metadata": {},
   "source": [
    "since `loc` indexes via the label name.  \n",
    "\n",
    "Here's another example where we return three rows of `dfcars_reindex` that correspond to column attributes `mpg`, `cyl`, and `disp`.  First do it with `iloc`:"
   ]
  },
  {
   "cell_type": "code",
   "execution_count": 65,
   "metadata": {},
   "outputs": [
    {
     "data": {
      "text/html": [
       "<div>\n",
       "<style scoped>\n",
       "    .dataframe tbody tr th:only-of-type {\n",
       "        vertical-align: middle;\n",
       "    }\n",
       "\n",
       "    .dataframe tbody tr th {\n",
       "        vertical-align: top;\n",
       "    }\n",
       "\n",
       "    .dataframe thead th {\n",
       "        text-align: right;\n",
       "    }\n",
       "</style>\n",
       "<table border=\"1\" class=\"dataframe\">\n",
       "  <thead>\n",
       "    <tr style=\"text-align: right;\">\n",
       "      <th></th>\n",
       "      <th>mpg</th>\n",
       "      <th>cyl</th>\n",
       "      <th>disp</th>\n",
       "    </tr>\n",
       "  </thead>\n",
       "  <tbody>\n",
       "    <tr>\n",
       "      <th>7</th>\n",
       "      <td>24.4</td>\n",
       "      <td>4.0</td>\n",
       "      <td>146.7</td>\n",
       "    </tr>\n",
       "    <tr>\n",
       "      <th>8</th>\n",
       "      <td>22.8</td>\n",
       "      <td>4.0</td>\n",
       "      <td>140.8</td>\n",
       "    </tr>\n",
       "    <tr>\n",
       "      <th>9</th>\n",
       "      <td>19.2</td>\n",
       "      <td>6.0</td>\n",
       "      <td>167.6</td>\n",
       "    </tr>\n",
       "  </tbody>\n",
       "</table>\n",
       "</div>"
      ],
      "text/plain": [
       "    mpg  cyl   disp\n",
       "7  24.4  4.0  146.7\n",
       "8  22.8  4.0  140.8\n",
       "9  19.2  6.0  167.6"
      ]
     },
     "execution_count": 65,
     "metadata": {},
     "output_type": "execute_result"
    }
   ],
   "source": [
    "dfcars_reindex.iloc[2:5, 1:4]"
   ]
  },
  {
   "cell_type": "markdown",
   "metadata": {},
   "source": [
    "Notice that rows we're accessing, 2, 3, and 4, have label names 7, 8, and 9, and the columns we're accessing, 1, 2, and 3, have label names `mpg`, `cyl`, and `disp`.  So for both rows and columns, we're accessing elements of the dataframe using the integer position indices.  Now let's do it with `loc`:"
   ]
  },
  {
   "cell_type": "code",
   "execution_count": 66,
   "metadata": {},
   "outputs": [
    {
     "data": {
      "text/html": [
       "<div>\n",
       "<style scoped>\n",
       "    .dataframe tbody tr th:only-of-type {\n",
       "        vertical-align: middle;\n",
       "    }\n",
       "\n",
       "    .dataframe tbody tr th {\n",
       "        vertical-align: top;\n",
       "    }\n",
       "\n",
       "    .dataframe thead th {\n",
       "        text-align: right;\n",
       "    }\n",
       "</style>\n",
       "<table border=\"1\" class=\"dataframe\">\n",
       "  <thead>\n",
       "    <tr style=\"text-align: right;\">\n",
       "      <th></th>\n",
       "      <th>mpg</th>\n",
       "      <th>cyl</th>\n",
       "      <th>disp</th>\n",
       "    </tr>\n",
       "  </thead>\n",
       "  <tbody>\n",
       "    <tr>\n",
       "      <th>7</th>\n",
       "      <td>24.4</td>\n",
       "      <td>4.0</td>\n",
       "      <td>146.7</td>\n",
       "    </tr>\n",
       "    <tr>\n",
       "      <th>8</th>\n",
       "      <td>22.8</td>\n",
       "      <td>4.0</td>\n",
       "      <td>140.8</td>\n",
       "    </tr>\n",
       "    <tr>\n",
       "      <th>9</th>\n",
       "      <td>19.2</td>\n",
       "      <td>6.0</td>\n",
       "      <td>167.6</td>\n",
       "    </tr>\n",
       "  </tbody>\n",
       "</table>\n",
       "</div>"
      ],
      "text/plain": [
       "    mpg  cyl   disp\n",
       "7  24.4  4.0  146.7\n",
       "8  22.8  4.0  140.8\n",
       "9  19.2  6.0  167.6"
      ]
     },
     "execution_count": 66,
     "metadata": {},
     "output_type": "execute_result"
    }
   ],
   "source": [
    "dfcars_reindex.loc[7:9, ['mpg', 'cyl', 'disp']]"
   ]
  },
  {
   "cell_type": "markdown",
   "metadata": {},
   "source": [
    "We don't have to remember that `disp` is the third column of the dataframe --- we can simply access it with `loc` using the label name `disp`. \n",
    "\n",
    "Generally we prefer `iloc` for indexing rows and `loc` for indexing columns. "
   ]
  },
  {
   "cell_type": "markdown",
   "metadata": {},
   "source": [
    "<div class=\"exercise\"><b>Exercise</b></div>\n",
    "In this exercise you'll examine the documentation to generate a toy dataframe from scratch.  Go to the documentation and click on \"10 minutes to pandas\" in the table of contents.  Then do the following:\n",
    "\n",
    ">1.  Create a series called `column_1` with entries 0, 1, 2, 3.\n",
    "\n",
    ">2.  Create a second series called `column_2` with entries 4, 5, 6, 7.\n",
    "\n",
    ">3.  Glue these series into a dataframe called `table`, where the first and second labelled column of the dataframe are `column_1` and `column_2`, respectively.  In the dataframe, `column_1` should be indexed as `col_1` and `column_2` should be indexed as `col_2`.\n",
    "\n",
    ">4. Oops!  You've changed your mind about the index labels for the columns.  Use `rename` to rename `col_1` as `Col_1` and `col_2` as `Col_2`.  \n",
    "\n",
    "> *Stretch*: Can you figure out how to rename the row indexes?  Try to rename `0` as `zero`, `1` as `one`, and so on."
   ]
  },
  {
   "cell_type": "code",
   "execution_count": 99,
   "metadata": {},
   "outputs": [
    {
     "data": {
      "text/html": [
       "<div>\n",
       "<style scoped>\n",
       "    .dataframe tbody tr th:only-of-type {\n",
       "        vertical-align: middle;\n",
       "    }\n",
       "\n",
       "    .dataframe tbody tr th {\n",
       "        vertical-align: top;\n",
       "    }\n",
       "\n",
       "    .dataframe thead th {\n",
       "        text-align: right;\n",
       "    }\n",
       "</style>\n",
       "<table border=\"1\" class=\"dataframe\">\n",
       "  <thead>\n",
       "    <tr style=\"text-align: right;\">\n",
       "      <th></th>\n",
       "      <th>Col_1</th>\n",
       "      <th>Col_2</th>\n",
       "    </tr>\n",
       "  </thead>\n",
       "  <tbody>\n",
       "    <tr>\n",
       "      <th>zero</th>\n",
       "      <td>0</td>\n",
       "      <td>4</td>\n",
       "    </tr>\n",
       "    <tr>\n",
       "      <th>one</th>\n",
       "      <td>1</td>\n",
       "      <td>5</td>\n",
       "    </tr>\n",
       "    <tr>\n",
       "      <th>two</th>\n",
       "      <td>2</td>\n",
       "      <td>6</td>\n",
       "    </tr>\n",
       "    <tr>\n",
       "      <th>three</th>\n",
       "      <td>3</td>\n",
       "      <td>7</td>\n",
       "    </tr>\n",
       "  </tbody>\n",
       "</table>\n",
       "</div>"
      ],
      "text/plain": [
       "       Col_1  Col_2\n",
       "zero       0      4\n",
       "one        1      5\n",
       "two        2      6\n",
       "three      3      7"
      ]
     },
     "execution_count": 99,
     "metadata": {},
     "output_type": "execute_result"
    }
   ],
   "source": [
    "# your code here\n",
    "\n",
    "column_1 = pd.Series(range(4)) # Q1\n",
    "column_2 = pd.Series(range(4,8)) # Q2\n",
    "table = pd.DataFrame({'col_1': column_1, 'col_2': column_2}) # Q3\n",
    "table = table.rename(columns={\"col_1\": \"Col_1\", \"col_2\":\"Col_2\"}) # Q4\n",
    "\n",
    "table = table.rename({0: \"zero\", 1: \"one\", 2: \"two\", 3: \"three\"})\n",
    "\n",
    "table"
   ]
  },
  {
   "cell_type": "markdown",
   "metadata": {},
   "source": [
    "### Reading `json` into `pandas` dataframe"
   ]
  },
  {
   "cell_type": "markdown",
   "metadata": {},
   "source": [
    "Before moving on, there is one more convenient thing to discuss.\n",
    "\n",
    "Hopefully you remember reading and writing data to `json` files from earlier in the lab.\n",
    "\n",
    "Now that you're equipped with `pandas`, we can discuss reading `json` data into `pandas` dataframes!\n",
    "\n",
    "Recall that we saved a `json` file earlier called `dog_shelter_info.txt`.  Let's load it up, convert it to a `pandas` dataframe, and take a look."
   ]
  },
  {
   "cell_type": "code",
   "execution_count": 68,
   "metadata": {},
   "outputs": [
    {
     "data": {
      "text/html": [
       "<div>\n",
       "<style scoped>\n",
       "    .dataframe tbody tr th:only-of-type {\n",
       "        vertical-align: middle;\n",
       "    }\n",
       "\n",
       "    .dataframe tbody tr th {\n",
       "        vertical-align: top;\n",
       "    }\n",
       "\n",
       "    .dataframe thead th {\n",
       "        text-align: right;\n",
       "    }\n",
       "</style>\n",
       "<table border=\"1\" class=\"dataframe\">\n",
       "  <thead>\n",
       "    <tr style=\"text-align: right;\">\n",
       "      <th></th>\n",
       "      <th>dog1</th>\n",
       "      <th>dog2</th>\n",
       "    </tr>\n",
       "  </thead>\n",
       "  <tbody>\n",
       "    <tr>\n",
       "      <th>age</th>\n",
       "      <td>3</td>\n",
       "      <td>7</td>\n",
       "    </tr>\n",
       "    <tr>\n",
       "      <th>breed</th>\n",
       "      <td>Border Collie</td>\n",
       "      <td>Beagle</td>\n",
       "    </tr>\n",
       "    <tr>\n",
       "      <th>name</th>\n",
       "      <td>Cloe</td>\n",
       "      <td>Karl</td>\n",
       "    </tr>\n",
       "    <tr>\n",
       "      <th>playgroup</th>\n",
       "      <td>Yes</td>\n",
       "      <td>Yes</td>\n",
       "    </tr>\n",
       "  </tbody>\n",
       "</table>\n",
       "</div>"
      ],
      "text/plain": [
       "                    dog1    dog2\n",
       "age                    3       7\n",
       "breed      Border Collie  Beagle\n",
       "name                Cloe    Karl\n",
       "playgroup            Yes     Yes"
      ]
     },
     "execution_count": 68,
     "metadata": {},
     "output_type": "execute_result"
    }
   ],
   "source": [
    "# Load dog shelter data\n",
    "with open('dog_shelter_info.txt', 'r') as f:\n",
    "    dog_data = json.load(f)\n",
    "\n",
    "dog_data_json_str = json.dumps(dog_data) # Convert data to json string\n",
    "df = pd.read_json(dog_data_json_str) # Convert to pandas dataframe\n",
    "df.head() # Look at data"
   ]
  },
  {
   "cell_type": "markdown",
   "metadata": {},
   "source": [
    "#### Recap\n",
    "\n",
    "At this point, you have:\n",
    "* Refreshed your `python` knowledge\n",
    "* Learned about basic `python` I/O\n",
    "* Learned basic text processing with `python` string methods\n",
    "* Learned advanced text processing with regular expressions\n",
    "* Learned a little bit about the `json` format\n",
    "* Become proficient with `pandas`\n",
    "\n",
    "The last part of this lab will focus on working with even uglier data formats.  Specifically, we will look at parsing data from a web page.  Fortunately, there is a wonderful library out there that makes life much easier in this regard.  It is called *BeautifulSoup*."
   ]
  },
  {
   "cell_type": "markdown",
   "metadata": {},
   "source": [
    "##  Part 4: Beautiful Soup \n",
    "Data Engineering, the process of gathering and preparing data for analysis, is a very big part of Data Science.\n",
    "\n",
    "Datasets might not be formatted in the way you need (e.g. you have categorical features but your algorithm requires numerical features); or you might need to cross-reference some dataset to another that has a different format; or you might be dealing with a dataset that contains missing or invalid data.\n",
    "\n",
    "These are just a few examples of why data retrieval and cleaning are so important.\n",
    "\n",
    "---"
   ]
  },
  {
   "cell_type": "markdown",
   "metadata": {},
   "source": [
    "### `requests`:  Retrieving Data from the Web"
   ]
  },
  {
   "cell_type": "markdown",
   "metadata": {},
   "source": [
    "In HW1, you will be asked to retrieve some data from the Internet. `Python` has many built-in libraries that were developed over the years to do exactly that (e.g. `urllib`, `urllib2`, `urllib3`).\n",
    "\n",
    "However, these libraries are very low-level and somewhat hard to use. They become especially cumbersome when you need to issue POST requests or authenticate against a web service.\n",
    "\n",
    "Luckly, as with most tasks in `Python`, someone has developed a library that simplifies these tasks. In reality, the requests made both on this lab and on HW1 are fairly simple, and could easily be done using one of the built-in libraries. However, it is better to get acquainted to `requests` as soon as possible, since you will probably need it in the future."
   ]
  },
  {
   "cell_type": "code",
   "execution_count": 69,
   "metadata": {},
   "outputs": [],
   "source": [
    "# You tell Python that you want to use a library with the import statement.\n",
    "import requests"
   ]
  },
  {
   "cell_type": "markdown",
   "metadata": {},
   "source": [
    "Now that the requests library was imported into our namespace, we can use the functions offered by it.\n",
    "\n",
    "In this case we'll use the appropriately named `get` function to issue a *GET* request. This is equivalent to typing a URL into your browser and hitting enter."
   ]
  },
  {
   "cell_type": "code",
   "execution_count": 70,
   "metadata": {},
   "outputs": [],
   "source": [
    "# Get the HU Wikipedia page\n",
    "req = requests.get(\"https://en.wikipedia.org/wiki/Harvard_University\")"
   ]
  },
  {
   "cell_type": "markdown",
   "metadata": {},
   "source": [
    "Python is an Object Oriented language, and everything on it is an object. Even built-in functions such as `len` are just syntactic sugar for acting on object properties.\n",
    "\n",
    "We will not dwell too long on OO concepts, but some of Python's idiosyncrasies will be easier to understand if we spend a few minutes on this subject.\n",
    "\n",
    "When you evaluate an object itself, such as the `req` object we created above, Python will automatially call the `__str__()` or `__repr__()` method of that object. The default values for these methods are usually very simple and boring. The `req` object however has a custom implementation that shows the object type (i.e. `Response`) and the HTTP status number (200 means the request was successful)."
   ]
  },
  {
   "cell_type": "code",
   "execution_count": 71,
   "metadata": {},
   "outputs": [
    {
     "data": {
      "text/plain": [
       "<Response [200]>"
      ]
     },
     "execution_count": 71,
     "metadata": {},
     "output_type": "execute_result"
    }
   ],
   "source": [
    "req"
   ]
  },
  {
   "cell_type": "markdown",
   "metadata": {},
   "source": [
    "Just to confirm, we will call the `type` function on the object to make sure it agrees with the value above."
   ]
  },
  {
   "cell_type": "code",
   "execution_count": 72,
   "metadata": {},
   "outputs": [
    {
     "data": {
      "text/plain": [
       "requests.models.Response"
      ]
     },
     "execution_count": 72,
     "metadata": {},
     "output_type": "execute_result"
    }
   ],
   "source": [
    "type(req)"
   ]
  },
  {
   "cell_type": "markdown",
   "metadata": {},
   "source": [
    "Another very nifty Python function is `dir`. You can use it to list all the properties of an object.\n",
    "\n",
    "By the way, properties starting with a single and double underscores are usually not meant to be called directly."
   ]
  },
  {
   "cell_type": "code",
   "execution_count": 73,
   "metadata": {},
   "outputs": [
    {
     "data": {
      "text/plain": [
       "['__attrs__',\n",
       " '__bool__',\n",
       " '__class__',\n",
       " '__delattr__',\n",
       " '__dict__',\n",
       " '__dir__',\n",
       " '__doc__',\n",
       " '__enter__',\n",
       " '__eq__',\n",
       " '__exit__',\n",
       " '__format__',\n",
       " '__ge__',\n",
       " '__getattribute__',\n",
       " '__getstate__',\n",
       " '__gt__',\n",
       " '__hash__',\n",
       " '__init__',\n",
       " '__init_subclass__',\n",
       " '__iter__',\n",
       " '__le__',\n",
       " '__lt__',\n",
       " '__module__',\n",
       " '__ne__',\n",
       " '__new__',\n",
       " '__nonzero__',\n",
       " '__reduce__',\n",
       " '__reduce_ex__',\n",
       " '__repr__',\n",
       " '__setattr__',\n",
       " '__setstate__',\n",
       " '__sizeof__',\n",
       " '__str__',\n",
       " '__subclasshook__',\n",
       " '__weakref__',\n",
       " '_content',\n",
       " '_content_consumed',\n",
       " '_next',\n",
       " 'apparent_encoding',\n",
       " 'close',\n",
       " 'connection',\n",
       " 'content',\n",
       " 'cookies',\n",
       " 'elapsed',\n",
       " 'encoding',\n",
       " 'headers',\n",
       " 'history',\n",
       " 'is_permanent_redirect',\n",
       " 'is_redirect',\n",
       " 'iter_content',\n",
       " 'iter_lines',\n",
       " 'json',\n",
       " 'links',\n",
       " 'next',\n",
       " 'ok',\n",
       " 'raise_for_status',\n",
       " 'raw',\n",
       " 'reason',\n",
       " 'request',\n",
       " 'status_code',\n",
       " 'text',\n",
       " 'url']"
      ]
     },
     "execution_count": 73,
     "metadata": {},
     "output_type": "execute_result"
    }
   ],
   "source": [
    "dir(req)"
   ]
  },
  {
   "cell_type": "markdown",
   "metadata": {},
   "source": [
    "Right now `req` holds a reference to a *Request* object; but we are interested in the text associated with the web page, not the object itself.\n",
    "\n",
    "So the next step is to assign the value of the `text` property of this `Request` object to a variable."
   ]
  },
  {
   "cell_type": "code",
   "execution_count": 74,
   "metadata": {},
   "outputs": [
    {
     "data": {
      "text/plain": [
       "'alize admissions after the war. The undergraduate college became coeducational after its 1977 merger with <a href=\"/wiki/Radcliffe_College\" title=\"Radcliffe College\">Radcliffe College</a>.</p>\\n<p>The university is organized into eleven separate academic units—ten faculties and the <a href=\"/wiki/Radcliffe_Institute_for_Advanced_Study\" title=\"Radcliffe Institute for Advanced Study\">Radcliffe Institute for Advanced Study</a>—with campuses throughout the <a href=\"/wiki/Greater_Boston\" title=\"Greater Boston\">Boston metropolitan area</a>:<sup id=\"cite_ref-14\" class=\"reference\"><a href=\"#cite_note-14\">[14]</a></sup> its 209-acre (85&#160;ha) main campus is centered on <a href=\"/wiki/Harvard_Yard\" title=\"Harvard Yard\">Harvard Yard</a> in Cambridge, approximately 3 miles (5&#160;km) northwest of Boston; the <a href=\"/wiki/Harvard_Business_School\" title=\"Harvard Business School\">business school</a> and athletics facilities, including <a href=\"/wiki/Harvard_Stadium\" title=\"Harvard Stadium\">Harvard Stadium</a>, are located across the <a href=\"/wiki/Charles_River\" title=\"Charles River\">Charles River</a> in the <a href=\"/wiki/Allston\" title=\"Allston\">Allston</a> neighborhood of Boston and the <a href=\"/wiki/Harvard_Medical_School\" title=\"Harvard Medical School\">medical</a>, <a href=\"/wiki/Harvard_School_of_Dental_Medicine\" title=\"Harvard School of Dental Medicine\">dental</a>, and <a href=\"/wiki/Harvard_School_of_Public_Health\" class=\"mw-redirect\" title=\"Harvard School of Public Health\">public health</a> schools are in the <a href=\"/wiki/Longwood_Medical_and_Academic_Area\" title=\"Longwood Medical and Academic Area\">Longwood Medical Area</a>.<sup id=\"cite_ref-Campus_15-0\" class=\"reference\"><a href=\"#cite_note-Campus-15\">[15]</a></sup> The <a href=\"/wiki/Harvard_University_endowment\" title=\"Harvard University endowment\">endowment of Harvard</a>\\'s is worth $37.1 billion, making it the <a href=\"/wiki/List_of_colleges_and_universities_in_the_United_States_by_endowment\" title=\"List of colleges and universities in the United States by endowment\">largest of any academic institution</a>.<sup id=\"cite_ref-HarvardGlance_8-1\" class=\"reference\"><a href=\"#cite_note-HarvardGlance-8\">[8]</a></sup></p>\\n<p>Harvard is a large, highly residential research university.<sup id=\"cite_ref-Carnegie_16-0\" class=\"reference\"><a href=\"#cite_note-Carnegie-16\">[16]</a></sup> The nominal cost of attendance is high, but the university\\'s large endowment allows it to offer generous financial aid packages.<sup id=\"cite_ref-fa_17-0\" class=\"reference\"><a href=\"#cite_note-fa-17\">[17]</a></sup> The <a href=\"/wiki/Harvard_Library\" title=\"Harvard Library\">Harvard Library</a> is the world\\'s largest academic and private library system, comprising 79 individual libraries holding over 18 million items.<sup id=\"cite_ref-hlar_18-0\" class=\"reference\"><a href=\"#cite_note-hlar-18\">[18]</a></sup><sup id=\"cite_ref-largestlibs_19-0\" class=\"reference\"><a href=\"#cite_note-largestlibs-19\">[19]</a></sup><sup id=\"cite_ref-speaking_20-0\" class=\"reference\"><a href=\"#cite_note-speaking-20\">[20]</a></sup> Harvard\\'s alumni include <a href=\"/wiki/List_of_Presidents_of_the_United_States_by_education\" title=\"List of Presidents of the United States by education\">eight U.S. presidents</a>, several foreign heads of state, 62 living <a href=\"/wiki/Billionaires\" class=\"mw-redirect\" title=\"Billionaires\">billionaires</a>, 359 <a href=\"/wiki/Rhodes_Scholar\" class=\"mw-redirect\" title=\"Rhodes Scholar\">Rhodes Scholars</a>, and 242 <a href=\"/wiki/Marshall_Scholars\" class=\"mw-redirect\" title=\"Marshall Scholars\">Marshall Scholars</a>.<sup id=\"cite_ref-RS_21-0\" class=\"reference\"><a href=\"#cite_note-RS-21\">[21]</a></sup><sup id=\"cite_ref-22\" class=\"reference\"><a href=\"#cite_note-22\">[22]</a></sup><sup id=\"cite_ref-23\" class=\"reference\"><a href=\"#cite_note-23\">[23]</a></sup> To date, <a href=\"/wiki/List_of_Nobel_laureates_by_university_affiliation\" title=\"List of Nobel laureates by university affiliation\">some 157 Nobel laureates</a>, <a href=\"/wiki/List_of_Fields_Medal_winners_by_university_affiliation\" title=\"List of Fields Medal winners by university affiliation\">18 Fields Medalists</a>, and <a href=\"/wiki/List_of_Turing_Award_laureates_by_university_affiliation\" title=\"List of Turing Award laureates by university affiliation\">14 Turing Award winners</a> have been affiliated as students, faculty, or staff.<sup id=\"cite_ref-24\" class=\"reference\"><a href=\"#cite_note-24\">[24]</a></sup> In addition, Harvard students and alumni have won 10 <a href=\"/wiki/Academy_Award\" class=\"mw-redirect\" title=\"Academy Award\">Academy Awards</a>, 48 <a href=\"/wiki/Pulitzer_Prize\" title=\"Pulitzer Prize\">Pulitzer Prizes</a>,<sup id=\"cite_ref-25\" class=\"reference\"><a href=\"#cite_note-25\">[25]</a></sup> and <a href=\"/wiki/List_of_American_universities_with_Olympic_medals\" title=\"List of American universities with Olympic medals\">108 Olympic medals (46 gold, 41 silver and 21 bronze)</a>.<sup id=\"cite_ref-26\" class=\"reference\"><a href=\"#cite_note-26\">[26]</a></sup> Harvard has been among the top universities worldwide on various <a href=\"/wiki/University_rankings\" class=\"mw-redirect\" title=\"University rankings\">league tables</a>.<sup id=\"cite_ref-ARWU_27-0\" class=\"reference\"><a href=\"#cite_note-ARWU-27\">[27]</a></sup><sup id=\"cite_ref-PBN_28-0\" class=\"reference\"><a href=\"#cite_note-PBN-28\">[28]</a></sup> <sup id=\"cite_ref-THE_World_Reputation_Rankings_29-0\" class=\"reference\"><a href=\"#cite_note-THE_World_Reputation_Rankings-29\">[29]</a></sup><sup id=\"cite_ref-THE_World_Reputation_Ranking_2016_30-0\" class=\"reference\"><a href=\"#cite_note-THE_World_Reputation_Ranking_2016-30\">[30]</a></sup></p>\\n<p></p>\\n<div id=\"toc\" class=\"toc\">\\n<div class=\"toctitle\" lang=\"en\" dir=\"ltr\">\\n<h2>Contents</h2>\\n</div>\\n<ul>\\n<li class=\"toclevel-1 tocsection-1\"><a href=\"#History\"><span class=\"tocnumber\">1</span> <span class=\"toctext\">History</span></a>\\n<ul>\\n<li class=\"toclevel-2 tocsection-2\"><a href=\"#Colonial\"><span class=\"tocnumber\">1.1</span> <span class=\"toctext\">Colonial</span></a></li>\\n<li class=\"toclevel-2 tocsection-3\"><a href=\"#19th_century\"><span class=\"tocnumber\">1.2</span> <span class=\"toctext\">19th century</span></a></li>\\n<li class=\"toclevel-2 tocsection-4\"><a href=\"#20th_century\"><span class=\"tocnumber\">1.3</span> <span class=\"toctext\">20th century</span></a></li>\\n<li class=\"toclevel-2 tocsection-5\"><a href=\"#21st_century\"><span class=\"tocnumber\">1.4</span> <span class=\"toctext\">21st century</span></a></li>\\n</ul>\\n</li>\\n<li class=\"toclevel-1 tocsection-6\"><a href=\"#Campuses\"><span class=\"tocnumber\">2</span> <span class=\"toctext\">Campuses</span></a>\\n<ul>\\n<li class=\"toclevel-2 tocsection-7\"><a href=\"#Cambridge\"><span class=\"tocnumber\">2.1</span> <span class=\"toctext\">Cambridge</span></a></li>\\n<li class=\"toclevel-2 tocsection-8\"><a href=\"#Allston\"><span class=\"tocnumber\">2.2</span> <span class=\"toctext\">Allston</span></a></li>\\n<li class=\"toclevel-2 tocsection-9\"><a href=\"#Longwood\"><span class=\"tocnumber\">2.3</span> <span class=\"toctext\">Longwood</span></a></li>\\n<li class=\"toclevel-2 tocsection-10\"><a href=\"#Other\"><span class=\"tocnumber\">2.4</span> <span class=\"toctext\">Other</span></a></li>\\n</ul>\\n</li>\\n<li class=\"toclevel-1 tocsection-11\"><a href=\"#Organization_and_administration\"><span class=\"tocnumber\">3</span> <span class=\"toctext\">Organization and administration</span></a>\\n<ul>\\n<li class=\"toclevel-2 tocsection-12\"><a href=\"#Governance\"><span class=\"tocnumber\">3.1</span> <span class=\"toctext\">Governance</span></a></li>\\n<li class=\"toclevel-2 tocsection-13\"><a href=\"#Endowment\"><span class=\"tocnumber\">3.2</span> <span class=\"toctext\">Endowment</span></a>\\n<ul>\\n<li class=\"toclevel-3 tocsection-14\"><a href=\"#Divestment\"><span class=\"tocnumber\">3.2.1</span> <span class=\"toctext\">Divestment</span></a></li>\\n</ul>\\n</li>\\n</ul>\\n</li>\\n<li class=\"toclevel-1 tocsection-15\"><a href=\"#Academics\"><span class=\"tocnumber\">4</span> <span class=\"toctext\">Academics</span></a>\\n<ul>\\n<li class=\"toclevel-2 tocsection-16\"><a href=\"#Admission\"><span class=\"tocnumber\">4.1</span> <span class=\"toctext\">Admission</span></a></li>\\n<li class=\"toclevel-2 tocsection-17\"><a href=\"#Teaching_and_learning\"><span class=\"tocnumber\">4.2</span> <span class=\"toctext\">Teaching and learning</span></a></li>\\n<li class=\"toclevel-2 tocsection-18\"><a href=\"#Research\"><span class=\"tocnumber\">4.3</span> <span class=\"toctext\">Research</span></a></li>\\n<li class=\"toclevel-2 tocsection-19\"><a href=\"#Libraries_and_museums\"><span class=\"tocnumber\">4.4</span> <span class=\"toctext\">Libraries and museums</span></a></li>\\n<li class=\"toclevel-2 tocsection-20\"><a href=\"#University_rankings\"><span class=\"tocnumber\">4.5</span> <span class=\"toctext\">University rankings</span></a></li>\\n</ul>\\n</li>\\n<li class=\"toclevel-1 tocsection-21\"><a href=\"#Student_life\"><span class=\"tocnumber\">5</span> <span class=\"toctext\">Student life</span></a>\\n<ul>\\n<li class=\"toclevel-2 tocsection-22\"><a href=\"#Student_body\"><span class=\"tocnumber\">5.1</span> <span class=\"toctext\">Student body</span></a></li>\\n<li class=\"toclevel-2 tocsection-23\"><a href=\"#Athletics\"><span class=\"tocnumber\">5.2</span> <span class=\"toctext\">Athletics</span></a></li>\\n<li class=\"toclevel-2 tocsection-24\"><a href=\"#Song\"><span class=\"tocnumber\">5.3</span> <span class=\"toctext\">Song</span></a></li>\\n</ul>\\n</li>\\n<li class=\"toclevel-1 tocsection-25\"><a href=\"#Notable_people\"><span class=\"tocnumber\">6</span> <span class=\"toctext\">Notable people</span></a>\\n<ul>\\n<li class=\"toclevel-2 tocsection-26\"><a href=\"#Alumni\"><span class=\"tocnumber\">6.1</span> <span class=\"toctext\">Alumni</span></a></li>\\n<li class=\"toclevel-2 tocsection-27\"><a href=\"#Faculty\"><span class=\"tocnumber\">6.2</span> <span class=\"toctext\">Faculty</span></a></li>\\n</ul>\\n</li>\\n<li class=\"toclevel-1 tocsection-28\"><a href=\"#Literature_and_popular_culture\"><span class=\"tocnumber\">7</span> <span class=\"toctext\">Literature and popular culture</span></a>\\n<ul>\\n<li class=\"toclevel-2 tocsection-29\"><a href=\"#Lit'"
      ]
     },
     "execution_count": 74,
     "metadata": {},
     "output_type": "execute_result"
    }
   ],
   "source": [
    "page = req.text\n",
    "page[20000:30000]"
   ]
  },
  {
   "cell_type": "markdown",
   "metadata": {},
   "source": [
    "Great! Now we have the text of the Harvard University Wikipedia page. But this mess of HTML tags would be a pain to parse manually. Which is why we will use another very cool Python library called `BeautifulSoup`."
   ]
  },
  {
   "cell_type": "markdown",
   "metadata": {},
   "source": [
    "### `BeautifulSoup`\n",
    "\n",
    "Parsing data would be a breeze if we could always use well formatted data sources, such as CSV, JSON, or XML; but some formats such as HTML are at the same time a very popular and a pain to parse.\n",
    "\n",
    "One of the problems with HTML is that over the years browsers have evolved to be very forgiving of \"malformed\" syntax. Your browser is smart enough to detect some common problems, such as open tags, and correct them on the fly.\n",
    "\n",
    "Unfortunately, we do not have the time or patience to implement all the different corner cases, so we'll let BeautifulSoup do that for us.\n",
    "\n",
    "You'll notice that the `import` statement bellow is different from what we used for `requests`. The _from library import thing_ pattern is useful when you don't want to reference a function byt its full name (like we did with `requests.get`), but you also don't want to import every single thing on that library into your namespace."
   ]
  },
  {
   "cell_type": "code",
   "execution_count": 75,
   "metadata": {},
   "outputs": [],
   "source": [
    "from bs4 import BeautifulSoup"
   ]
  },
  {
   "cell_type": "markdown",
   "metadata": {},
   "source": [
    "`BeautifulSoup` can deal with `HTML` or `XML` data, so the next line parses the contents of the `page` variable using its `HTML` parser, and assigns the result of that to the `soup` variable."
   ]
  },
  {
   "cell_type": "code",
   "execution_count": 76,
   "metadata": {},
   "outputs": [],
   "source": [
    "soup = BeautifulSoup(page, 'html.parser')"
   ]
  },
  {
   "cell_type": "code",
   "execution_count": 77,
   "metadata": {},
   "outputs": [
    {
     "data": {
      "text/plain": [
       "bs4.BeautifulSoup"
      ]
     },
     "execution_count": 77,
     "metadata": {},
     "output_type": "execute_result"
    }
   ],
   "source": [
    "type(soup)"
   ]
  },
  {
   "cell_type": "markdown",
   "metadata": {},
   "source": [
    "Doesn't look much different from the `page` object representation. Let's make sure the two are different types."
   ]
  },
  {
   "cell_type": "code",
   "execution_count": 78,
   "metadata": {},
   "outputs": [
    {
     "data": {
      "text/plain": [
       "str"
      ]
     },
     "execution_count": 78,
     "metadata": {},
     "output_type": "execute_result"
    }
   ],
   "source": [
    "type(page)"
   ]
  },
  {
   "cell_type": "markdown",
   "metadata": {},
   "source": [
    "Looks like they are indeed different.\n",
    "\n",
    "`BeautifulSoup` objects have a cool little method that allows you to see the `HTML` content in a nice, indented way."
   ]
  },
  {
   "cell_type": "code",
   "execution_count": 79,
   "metadata": {},
   "outputs": [
    {
     "name": "stdout",
     "output_type": "stream",
     "text": [
      "<!DOCTYPE html>\n",
      "<html class=\"client-nojs\" dir=\"ltr\" lang=\"en\">\n",
      " <head>\n",
      "  <meta charset=\"utf-8\"/>\n",
      "  <title>\n",
      "   Harvard University - Wikipedia\n",
      "  </title>\n",
      "  <script>\n",
      "   document.documentElement.className = document.documentElement.className.replace( /(^|\\s)client-nojs(\\s|$)/, \"$1client-js$2\" );\n",
      "  </script>\n",
      "  <script>\n",
      "   (window.RLQ=window.RLQ||[]).push(function(){mw.config.set({\"wgCanonicalNamespace\":\"\",\"wgCanonicalSpecialPageName\":false,\"wgNamespaceNumber\":0,\"wgPageName\":\"Harvard_University\",\"wgTitle\":\"Harvard University\",\"wgCurRevisionId\":848045131,\"wgRevisionId\":848045131,\"wgArticleId\":18426501,\"wgIsArticle\":true,\"wgIsRedirect\":false,\"wgAction\":\"view\",\"wgUserName\":null,\"wgUserGroups\":[\"*\"],\"wgCategories\":[\"Articles containing potentially dated statements from March 2018\",\"All articles containing potentially dated statements\",\"CS1: Julian–Gregorian uncertainty\",\"CS1 maint: Extra text: editors list\",\"Webarchive template wayback links\",\"Wikipedia indefinitely move-protected pages\",\"Use md\n"
     ]
    }
   ],
   "source": [
    "print(soup.prettify()[:1000])"
   ]
  },
  {
   "cell_type": "markdown",
   "metadata": {},
   "source": [
    "Looks like it's our page!\n",
    "\n",
    "We can now reference elements of the `HTML` document in different ways. One very convenient way is by using the dot notation, which allows us to access the elements as if they were properties of the object."
   ]
  },
  {
   "cell_type": "code",
   "execution_count": 80,
   "metadata": {},
   "outputs": [
    {
     "data": {
      "text/plain": [
       "<title>Harvard University - Wikipedia</title>"
      ]
     },
     "execution_count": 80,
     "metadata": {},
     "output_type": "execute_result"
    }
   ],
   "source": [
    "soup.title"
   ]
  },
  {
   "cell_type": "markdown",
   "metadata": {},
   "source": [
    "This is nice for `HTML` elements that only appear once per page, such the the `title` tag. But what about elements that can appear multiple times?"
   ]
  },
  {
   "cell_type": "code",
   "execution_count": 81,
   "metadata": {},
   "outputs": [
    {
     "data": {
      "text/plain": [
       "<p><b>Harvard University</b> is a private <a href=\"/wiki/Ivy_League\" title=\"Ivy League\">Ivy League</a> <a href=\"/wiki/Research_university\" title=\"Research university\">research university</a> in <a href=\"/wiki/Cambridge,_Massachusetts\" title=\"Cambridge, Massachusetts\">Cambridge</a>, Massachusetts. Established in 1636 and named for its first benefactor clergyman <a href=\"/wiki/John_Harvard_(clergyman)\" title=\"John Harvard (clergyman)\">John Harvard</a>, Harvard is the <a class=\"mw-redirect\" href=\"/wiki/Colonial_Colleges\" title=\"Colonial Colleges\">United States' oldest institution of higher learning</a>,<sup class=\"reference\" id=\"cite_ref-9\"><a href=\"#cite_note-9\">[9]</a></sup> and its history, influence, and wealth have made it one of the world's most prestigious universities.<sup class=\"reference\" id=\"cite_ref-10\"><a href=\"#cite_note-10\">[10]</a></sup> The <a class=\"mw-redirect\" href=\"/wiki/Harvard_Corporation\" title=\"Harvard Corporation\">Harvard Corporation</a> is its first chartered <a href=\"/wiki/Corporation\" title=\"Corporation\">corporation</a>. Although never formally affiliated with any <a href=\"/wiki/Religious_denomination\" title=\"Religious denomination\">denomination</a>, the early College primarily trained <a href=\"/wiki/Congregationalism_in_the_United_States\" title=\"Congregationalism in the United States\">Congregational</a> and <a href=\"/wiki/Unitarianism\" title=\"Unitarianism\">Unitarian</a> clergy. Its curriculum and student body were gradually secularized during the 18th century, and by the 19th century, Harvard had emerged as the central cultural establishment among <a href=\"/wiki/Boston_Brahmin\" title=\"Boston Brahmin\">Boston elites</a>.<sup class=\"reference\" id=\"cite_ref-11\"><a href=\"#cite_note-11\">[11]</a></sup><sup class=\"reference\" id=\"cite_ref-12\"><a href=\"#cite_note-12\">[12]</a></sup> Following the <a href=\"/wiki/American_Civil_War\" title=\"American Civil War\">American Civil War</a>, President <a class=\"mw-redirect\" href=\"/wiki/Charles_W._Eliot\" title=\"Charles W. Eliot\">Charles W. Eliot</a>'s long tenure (1869–1909) transformed the college and affiliated professional schools into a modern <a href=\"/wiki/Research_university\" title=\"Research university\">research university</a>; Harvard was a founding member of the <a href=\"/wiki/Association_of_American_Universities\" title=\"Association of American Universities\">Association of American Universities</a> in 1900.<sup class=\"reference\" id=\"cite_ref-AAU_13-0\"><a href=\"#cite_note-AAU-13\">[13]</a></sup> <a class=\"mw-redirect\" href=\"/wiki/A._Lawrence_Lowell\" title=\"A. Lawrence Lowell\">A. Lawrence Lowell</a>, who followed Eliot, further reformed the undergraduate curriculum and undertook aggressive expansion of Harvard's land holdings and physical plant. <a href=\"/wiki/James_Bryant_Conant\" title=\"James Bryant Conant\">James Bryant Conant</a> led the university through the <a href=\"/wiki/Great_Depression\" title=\"Great Depression\">Great Depression</a> and <a href=\"/wiki/World_War_II\" title=\"World War II\">World War II</a> and began to reform the curriculum and liberalize admissions after the war. The undergraduate college became coeducational after its 1977 merger with <a href=\"/wiki/Radcliffe_College\" title=\"Radcliffe College\">Radcliffe College</a>.</p>"
      ]
     },
     "execution_count": 81,
     "metadata": {},
     "output_type": "execute_result"
    }
   ],
   "source": [
    "# Be careful with elements that show up multiple times.\n",
    "soup.p"
   ]
  },
  {
   "cell_type": "markdown",
   "metadata": {},
   "source": [
    "Uh Oh. Turns out the attribute syntax in `Beautiful` soup is what is called *syntactic sugar*. That's why it is safer to use the explicit commands behind that syntactic sugar I mentioned. These are:\n",
    "* `BeautifulSoup.find` for getting single elements, and \n",
    "* `BeautifulSoup.find_all` for retrieving multiple elements."
   ]
  },
  {
   "cell_type": "code",
   "execution_count": 82,
   "metadata": {},
   "outputs": [
    {
     "data": {
      "text/plain": [
       "75"
      ]
     },
     "execution_count": 82,
     "metadata": {},
     "output_type": "execute_result"
    }
   ],
   "source": [
    "len(soup.find_all(\"p\"))"
   ]
  },
  {
   "cell_type": "markdown",
   "metadata": {},
   "source": [
    "If you look at the Wikipedia page on your browser, you'll notice that it has a couple of tables in it. We will be working with the \"Demographics\" table, but first we need to find it.\n",
    "\n",
    "One of the `HTML` attributes that will be very useful to us is the `class` attribute.\n",
    "\n",
    "Getting the class of a single element is easy!"
   ]
  },
  {
   "cell_type": "code",
   "execution_count": 83,
   "metadata": {},
   "outputs": [
    {
     "data": {
      "text/plain": [
       "['infobox', 'vcard']"
      ]
     },
     "execution_count": 83,
     "metadata": {},
     "output_type": "execute_result"
    }
   ],
   "source": [
    "soup.table[\"class\"]"
   ]
  },
  {
   "cell_type": "markdown",
   "metadata": {},
   "source": [
    "Next we will use a *list comprehension* to see all the tables that have a `class` attribute. "
   ]
  },
  {
   "cell_type": "code",
   "execution_count": 84,
   "metadata": {},
   "outputs": [
    {
     "data": {
      "text/plain": [
       "[['infobox', 'vcard'],\n",
       " ['toccolours'],\n",
       " ['plainlinks', 'metadata', 'ambox', 'mbox-small-left', 'ambox-content'],\n",
       " ['multicol'],\n",
       " ['infobox'],\n",
       " ['wikitable', 'sortable', 'collapsible', 'collapsed'],\n",
       " ['wikitable', 'sortable', 'collapsible', 'collapsed'],\n",
       " ['wikitable'],\n",
       " ['nowraplinks', 'collapsible', 'collapsed', 'navbox-inner'],\n",
       " ['nowraplinks', 'navbox-subgroup'],\n",
       " ['nowraplinks', 'navbox-subgroup'],\n",
       " ['nowraplinks', 'collapsible', 'collapsed', 'navbox-inner'],\n",
       " ['nowraplinks', 'collapsible', 'autocollapse', 'navbox-inner'],\n",
       " ['nowraplinks', 'collapsible', 'autocollapse', 'navbox-inner'],\n",
       " ['nowraplinks', 'collapsible', 'autocollapse', 'navbox-inner'],\n",
       " ['nowraplinks', 'collapsible', 'autocollapse', 'navbox-inner'],\n",
       " ['nowraplinks', 'collapsible', 'autocollapse', 'navbox-inner'],\n",
       " ['nowraplinks', 'collapsible', 'autocollapse', 'navbox-inner'],\n",
       " ['nowraplinks', 'collapsible', 'autocollapse', 'navbox-inner'],\n",
       " ['nowraplinks', 'hlist', 'collapsible', 'autocollapse', 'navbox-inner'],\n",
       " ['nowraplinks', 'collapsible', 'autocollapse', 'navbox-inner'],\n",
       " ['nowraplinks', 'collapsible', 'autocollapse', 'navbox-inner'],\n",
       " ['nowraplinks', 'hlist', 'collapsible', 'autocollapse', 'navbox-inner'],\n",
       " ['nowraplinks', 'hlist', 'navbox-inner']]"
      ]
     },
     "execution_count": 84,
     "metadata": {},
     "output_type": "execute_result"
    }
   ],
   "source": [
    "# the classes of all tables that have a class attribute set on them\n",
    "[t[\"class\"] for t in soup.find_all(\"table\") if t.get(\"class\")]"
   ]
  },
  {
   "cell_type": "markdown",
   "metadata": {},
   "source": [
    "As already mentioned, we will be using the Demographics table for this lab. The next cell contains the `HTML` elements of said table. We will render it in different parts of the notebook to make it easier to follow along the parsing steps."
   ]
  },
  {
   "cell_type": "code",
   "execution_count": 85,
   "metadata": {},
   "outputs": [],
   "source": [
    "table_demographics = soup.find_all(\"table\", \"wikitable\")[2]"
   ]
  },
  {
   "cell_type": "code",
   "execution_count": 86,
   "metadata": {},
   "outputs": [
    {
     "data": {
      "text/html": [
       "<table class=\"wikitable\" style=\"text-align:center; float:right; font-size:85%; margin-right:2em;\">\n",
       "<caption><i>Demographics of student body</i><sup class=\"reference\" id=\"cite_ref-Head_count_133-0\"><a href=\"#cite_note-Head_count-133\">[133]</a></sup><sup class=\"reference\" id=\"cite_ref-134\"><a href=\"#cite_note-134\">[134]</a></sup><sup class=\"reference\" id=\"cite_ref-135\"><a href=\"#cite_note-135\">[135]</a></sup></caption>\n",
       "<tr>\n",
       "<th></th>\n",
       "<th>Undergrad</th>\n",
       "<th>Graduate</th>\n",
       "<th>U.S. census</th>\n",
       "</tr>\n",
       "<tr>\n",
       "<th>Asian/Pacific Islander</th>\n",
       "<td>17%</td>\n",
       "<td>11%</td>\n",
       "<td>5%</td>\n",
       "</tr>\n",
       "<tr>\n",
       "<th>Black/non-Hispanic</th>\n",
       "<td>6%</td>\n",
       "<td>4%</td>\n",
       "<td>12%</td>\n",
       "</tr>\n",
       "<tr>\n",
       "<th>Hispanics of any race</th>\n",
       "<td>9%</td>\n",
       "<td>5%</td>\n",
       "<td>16%</td>\n",
       "</tr>\n",
       "<tr>\n",
       "<th>White/non-Hispanic</th>\n",
       "<td>46%</td>\n",
       "<td>43%</td>\n",
       "<td>64%</td>\n",
       "</tr>\n",
       "<tr>\n",
       "<th>Mixed race/other</th>\n",
       "<td>10%</td>\n",
       "<td>8%</td>\n",
       "<td>9%</td>\n",
       "</tr>\n",
       "<tr>\n",
       "<th>International students</th>\n",
       "<td>11%</td>\n",
       "<td>27%</td>\n",
       "<td>N/A</td>\n",
       "</tr>\n",
       "</table>"
      ],
      "text/plain": [
       "<IPython.core.display.HTML object>"
      ]
     },
     "execution_count": 86,
     "metadata": {},
     "output_type": "execute_result"
    }
   ],
   "source": [
    "from IPython.core.display import HTML\n",
    "HTML(str(table_demographics))"
   ]
  },
  {
   "cell_type": "markdown",
   "metadata": {},
   "source": [
    "First we'll use a list comprehension to extract the rows (*tr*) elements."
   ]
  },
  {
   "cell_type": "code",
   "execution_count": 87,
   "metadata": {
    "scrolled": true
   },
   "outputs": [
    {
     "name": "stdout",
     "output_type": "stream",
     "text": [
      "[<tr>\n",
      "<th></th>\n",
      "<th>Undergrad</th>\n",
      "<th>Graduate</th>\n",
      "<th>U.S. census</th>\n",
      "</tr>, <tr>\n",
      "<th>Asian/Pacific Islander</th>\n",
      "<td>17%</td>\n",
      "<td>11%</td>\n",
      "<td>5%</td>\n",
      "</tr>, <tr>\n",
      "<th>Black/non-Hispanic</th>\n",
      "<td>6%</td>\n",
      "<td>4%</td>\n",
      "<td>12%</td>\n",
      "</tr>, <tr>\n",
      "<th>Hispanics of any race</th>\n",
      "<td>9%</td>\n",
      "<td>5%</td>\n",
      "<td>16%</td>\n",
      "</tr>, <tr>\n",
      "<th>White/non-Hispanic</th>\n",
      "<td>46%</td>\n",
      "<td>43%</td>\n",
      "<td>64%</td>\n",
      "</tr>, <tr>\n",
      "<th>Mixed race/other</th>\n",
      "<td>10%</td>\n",
      "<td>8%</td>\n",
      "<td>9%</td>\n",
      "</tr>, <tr>\n",
      "<th>International students</th>\n",
      "<td>11%</td>\n",
      "<td>27%</td>\n",
      "<td>N/A</td>\n",
      "</tr>]\n"
     ]
    }
   ],
   "source": [
    "rows = [row for row in table_demographics.find_all(\"tr\")]\n",
    "print(rows)"
   ]
  },
  {
   "cell_type": "code",
   "execution_count": 88,
   "metadata": {},
   "outputs": [
    {
     "data": {
      "text/html": [
       "<tr>\n",
       "<th></th>\n",
       "<th>Undergrad</th>\n",
       "<th>Graduate</th>\n",
       "<th>U.S. census</th>\n",
       "</tr>"
      ],
      "text/plain": [
       "<IPython.core.display.HTML object>"
      ]
     },
     "execution_count": 88,
     "metadata": {},
     "output_type": "execute_result"
    }
   ],
   "source": [
    "header_row = rows[0]\n",
    "HTML(str(header_row))"
   ]
  },
  {
   "cell_type": "markdown",
   "metadata": {},
   "source": [
    "We will then use a `lambda` expression to replace new line characters with spaces. `Lambda` expressions are to functions what list comprehensions are to lists: namely a more concise way to achieve the same thing.\n",
    "\n",
    "In reality, both lambda expressions and list comprehensions are a little different from their function and loop counterparts. But for the purposes of this class we can ignore those differences."
   ]
  },
  {
   "cell_type": "code",
   "execution_count": 89,
   "metadata": {},
   "outputs": [],
   "source": [
    "# Lambda expressions return the value of the expression inside it.\n",
    "# In this case, it will return a string with new line characters replaced by spaces.\n",
    "rem_nl = lambda s: s.replace(\"\\n\", \" \")"
   ]
  },
  {
   "cell_type": "markdown",
   "metadata": {},
   "source": [
    "#### Splitting the data\n",
    "Next we extract the text value of the columns. If you look at the table above, you'll see that we have three columns and six rows.\n",
    "\n",
    "Here we're doing the following:\n",
    "* Taking the first element (`Python` indices start at zero)\n",
    "* Iterating over the *th* elements inside it\n",
    "* Taking the text value of those elements\n",
    "\n",
    "We should end up with a list of column names.\n",
    "\n",
    "But there is one little caveat: the first column of the table is actually an empty string (look at the cell right above the row names). We could add it to our list and then remove it afterwards; but instead we will use the `if` statement inside the list comprehension to filter that out.\n",
    "\n",
    "In the following cell, `get_text` will return an empty string for the first cell of the table, which means that the test will fail and the value will not be added to the list."
   ]
  },
  {
   "cell_type": "code",
   "execution_count": 90,
   "metadata": {},
   "outputs": [
    {
     "data": {
      "text/plain": [
       "['Undergrad', 'Graduate', 'U.S. census']"
      ]
     },
     "execution_count": 90,
     "metadata": {},
     "output_type": "execute_result"
    }
   ],
   "source": [
    "# the if col.get_text() takes care of no-text in the upper left\n",
    "columns = [rem_nl(col.get_text()) for col in header_row.find_all(\"th\") if col.get_text()]\n",
    "columns"
   ]
  },
  {
   "cell_type": "markdown",
   "metadata": {},
   "source": [
    "Now let's do the same for the rows. Notice that since we have already parsed the header row, we will continue from the second row."
   ]
  },
  {
   "cell_type": "code",
   "execution_count": 91,
   "metadata": {},
   "outputs": [
    {
     "data": {
      "text/plain": [
       "['Asian/Pacific Islander',\n",
       " 'Black/non-Hispanic',\n",
       " 'Hispanics of any race',\n",
       " 'White/non-Hispanic',\n",
       " 'Mixed race/other',\n",
       " 'International students']"
      ]
     },
     "execution_count": 91,
     "metadata": {},
     "output_type": "execute_result"
    }
   ],
   "source": [
    "indexes = [row.find(\"th\").get_text() for row in rows[1:]]\n",
    "indexes"
   ]
  },
  {
   "cell_type": "markdown",
   "metadata": {},
   "source": [
    "Now we want to transform the string on the cells to integers.  To do this, we follow a very common `python` pattern:\n",
    "1. Check if the last character of the string is a percent sign\n",
    "2. If it is, then convert the characters before the percent sign to integers\n",
    "3. If one of the prior checks fails, return a value of `None`\n",
    "\n",
    "These steps can be conveniently packaged into a function using `if-else` statements."
   ]
  },
  {
   "cell_type": "code",
   "execution_count": 92,
   "metadata": {},
   "outputs": [],
   "source": [
    "def to_num(s):\n",
    "    if s[-1] == \"%\":\n",
    "        return int(s[:-1])\n",
    "    else:\n",
    "        return None"
   ]
  },
  {
   "cell_type": "markdown",
   "metadata": {},
   "source": [
    "Notice the `Python` slices are open on the upper bound. So the `[:-1]` construct will return all elements of the string, except for the last."
   ]
  },
  {
   "cell_type": "markdown",
   "metadata": {},
   "source": [
    "Another nice way to write our `to_num` function would be\n",
    "```python\n",
    "def to_num(s):\n",
    "    return int(s[:-1]) if s[-1] == \"%\" else None\n",
    "```\n",
    "Notice that we only had to write `return` one time and everything conveniently fits on one line.  I'll leave it up to you to decide if it's readable or not."
   ]
  },
  {
   "cell_type": "markdown",
   "metadata": {},
   "source": [
    "Now we use the `to_num` function in a list comprehension to parse the table values.\n",
    "\n",
    "Notice that we have two `for ... in ...` in this list comprehension. That is perfectly valid and somewhat common.\n",
    "\n",
    "Although there is no real limit to how many iterations you can perform at once, having more than two can be visually unpleasant, at which point either regular nested loops or saving intermediate comprehensions might be a better solution."
   ]
  },
  {
   "cell_type": "code",
   "execution_count": 93,
   "metadata": {},
   "outputs": [
    {
     "data": {
      "text/plain": [
       "[17, 11, 5, 6, 4, 12, 9, 5, 16, 46, 43, 64, 10, 8, 9, 11, 27, None]"
      ]
     },
     "execution_count": 93,
     "metadata": {},
     "output_type": "execute_result"
    }
   ],
   "source": [
    "values = [to_num(value.get_text()) for row in rows[1:] for value in row.find_all(\"td\")]\n",
    "values"
   ]
  },
  {
   "cell_type": "markdown",
   "metadata": {},
   "source": [
    "The problem with the list above is that the values lost their grouping.\n",
    "\n",
    "The `zip` function is used to combine two sequences element wise. So \n",
    "```python\n",
    "zip([1,2,3], [4,5,6])\n",
    "```\n",
    "would return\n",
    "```python\n",
    "[(1, 4), (2, 5), (3, 6)]\n",
    "```\n",
    "\n",
    "Next we create three arrays corresponding to the three columns by putting every three values in each list."
   ]
  },
  {
   "cell_type": "code",
   "execution_count": 94,
   "metadata": {},
   "outputs": [
    {
     "data": {
      "text/plain": [
       "[[17, 6, 9, 46, 10, 11], [11, 4, 5, 43, 8, 27], [5, 12, 16, 64, 9, None]]"
      ]
     },
     "execution_count": 94,
     "metadata": {},
     "output_type": "execute_result"
    }
   ],
   "source": [
    "stacked_values_lists = [values[i::3] for i in range(len(columns))]\n",
    "stacked_values_lists"
   ]
  },
  {
   "cell_type": "markdown",
   "metadata": {},
   "source": [
    "We then use `zip`. "
   ]
  },
  {
   "cell_type": "code",
   "execution_count": 95,
   "metadata": {},
   "outputs": [
    {
     "data": {
      "text/plain": [
       "[(17, 11, 5), (6, 4, 12), (9, 5, 16), (46, 43, 64), (10, 8, 9), (11, 27, None)]"
      ]
     },
     "execution_count": 95,
     "metadata": {},
     "output_type": "execute_result"
    }
   ],
   "source": [
    "stacked_values = zip(*stacked_values_lists)\n",
    "list(stacked_values)"
   ]
  },
  {
   "cell_type": "markdown",
   "metadata": {},
   "source": [
    "Notice the use of the `*` in front: that converts the list of lists to a set of arguments to `zip`. See the ASIDE below."
   ]
  },
  {
   "cell_type": "code",
   "execution_count": 96,
   "metadata": {},
   "outputs": [
    {
     "data": {
      "text/html": [
       "<table class=\"wikitable\" style=\"text-align:center; float:right; font-size:85%; margin-right:2em;\">\n",
       "<caption><i>Demographics of student body</i><sup class=\"reference\" id=\"cite_ref-Head_count_133-0\"><a href=\"#cite_note-Head_count-133\">[133]</a></sup><sup class=\"reference\" id=\"cite_ref-134\"><a href=\"#cite_note-134\">[134]</a></sup><sup class=\"reference\" id=\"cite_ref-135\"><a href=\"#cite_note-135\">[135]</a></sup></caption>\n",
       "<tr>\n",
       "<th></th>\n",
       "<th>Undergrad</th>\n",
       "<th>Graduate</th>\n",
       "<th>U.S. census</th>\n",
       "</tr>\n",
       "<tr>\n",
       "<th>Asian/Pacific Islander</th>\n",
       "<td>17%</td>\n",
       "<td>11%</td>\n",
       "<td>5%</td>\n",
       "</tr>\n",
       "<tr>\n",
       "<th>Black/non-Hispanic</th>\n",
       "<td>6%</td>\n",
       "<td>4%</td>\n",
       "<td>12%</td>\n",
       "</tr>\n",
       "<tr>\n",
       "<th>Hispanics of any race</th>\n",
       "<td>9%</td>\n",
       "<td>5%</td>\n",
       "<td>16%</td>\n",
       "</tr>\n",
       "<tr>\n",
       "<th>White/non-Hispanic</th>\n",
       "<td>46%</td>\n",
       "<td>43%</td>\n",
       "<td>64%</td>\n",
       "</tr>\n",
       "<tr>\n",
       "<th>Mixed race/other</th>\n",
       "<td>10%</td>\n",
       "<td>8%</td>\n",
       "<td>9%</td>\n",
       "</tr>\n",
       "<tr>\n",
       "<th>International students</th>\n",
       "<td>11%</td>\n",
       "<td>27%</td>\n",
       "<td>N/A</td>\n",
       "</tr>\n",
       "</table>"
      ],
      "text/plain": [
       "<IPython.core.display.HTML object>"
      ]
     },
     "execution_count": 96,
     "metadata": {},
     "output_type": "execute_result"
    }
   ],
   "source": [
    "# Here's the original HTML table for visual understanding\n",
    "HTML(str(table_demographics))"
   ]
  },
  {
   "cell_type": "markdown",
   "metadata": {},
   "source": [
    "---\n",
    "\n",
    "---\n",
    "\n",
    "#### Answers to data structures from the beginning of lab\n",
    "- the names of everyone in CS 109?\n",
    "    - a list (or a tuple, if the roster won't change)\n",
    "- a list of all the words in the English language (presuming we'll want to search and decide if a particular user-provided word is one of the correctly-spelled words)?\n",
    "    - a set! (A list would be very slow to search, and a dictionary mapping each word to \"yes\" or \"no\" would be wasteful... we simply want to know whether the user's word is or isn't among the valid words\n",
    "- the github username associated with each student's name?\n",
    "    - a dictionary (we're mapping strings to other objects)\n",
    "- the name associated with each (sequential) student ID?\n",
    "    - a list or tuple. Becuase the IDs are sequential a list (which maps indexes 0,1,2,... to its contents) is a good choice. A dictionary could be slower but also suffices.\n",
    "- the nickname and github username associated with each student ID?\n",
    "    - None of the above, directly. However, we could set up a list or dictionary where we provide a student ID and get back a two-element list, where element 0 is the nickname and element 1 is the username.\n",
    "    \n",
    "In order to do well in the course, you should score _at least_ 3/5, and preferably a 4/5."
   ]
  }
 ],
 "metadata": {
  "anaconda-cloud": {},
  "kernelspec": {
   "display_name": "Python 3",
   "language": "python",
   "name": "python3"
  },
  "language_info": {
   "codemirror_mode": {
    "name": "ipython",
    "version": 3
   },
   "file_extension": ".py",
   "mimetype": "text/x-python",
   "name": "python",
   "nbconvert_exporter": "python",
   "pygments_lexer": "ipython3",
   "version": "3.6.5"
  }
 },
 "nbformat": 4,
 "nbformat_minor": 1
}
