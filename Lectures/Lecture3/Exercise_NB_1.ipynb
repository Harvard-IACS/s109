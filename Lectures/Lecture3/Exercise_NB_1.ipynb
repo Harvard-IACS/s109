{
 "cells": [
  {
   "cell_type": "markdown",
   "metadata": {
    "slideshow": {
     "slide_type": "slide"
    }
   },
   "source": [
    "# Lecture 1 Exercises\n",
    "The following exercises are intended to complement the lecture.  They can be used to clarify important steps from the lecture.  These exercises are not graded.  However, you are strongly encouraged to do them.\n",
    "\n",
    "In the first exercise below, we give you a lot of the necessary code to help familiarize you with `python` and its primary libraries.  You still have to fill in some of the code on your own."
   ]
  },
  {
   "cell_type": "markdown",
   "metadata": {
    "slideshow": {
     "slide_type": "slide"
    }
   },
   "source": [
    "## Exercise 1\n",
    "Lecture contained an example of the $k$ nearest neighbors algorithm for a prediction problem.  The initial example considered $k=1$ and was applied to the advertising dataset in an attempt to predict sales from TV budgets.  You should reproduce the results from the lecture.  In particular, generate the following figure:"
   ]
  },
  {
   "cell_type": "markdown",
   "metadata": {
    "slideshow": {
     "slide_type": "subslide"
    }
   },
   "source": [
    "![](fig/Reg_4.png)"
   ]
  },
  {
   "cell_type": "markdown",
   "metadata": {
    "slideshow": {
     "slide_type": "subslide"
    }
   },
   "source": [
    "### Part 1:  Load Basic `Python` Modules"
   ]
  },
  {
   "cell_type": "code",
   "execution_count": null,
   "metadata": {
    "collapsed": true,
    "slideshow": {
     "slide_type": "fragment"
    }
   },
   "outputs": [],
   "source": [
    "# Access to pandas dataframes\n",
    "import pandas as pd # (see https://pandas.pydata.org/ for documentation)\n",
    "\n",
    "# Access to matplotlib for plotting capabilities\n",
    "# The inline command below allows you to display plots \n",
    "# in the notebook.  Without this command, the plots wouldn't \n",
    "# show up\n",
    "%pylab inline\n",
    "import matplotlib.pylab as plt # (see https://matplotlib.org/ for documentation)\n",
    "\n",
    "# Access to numpy for basic numerical algorithms\n",
    "import numpy as np # (see http://www.numpy.org/ for documentation)"
   ]
  },
  {
   "cell_type": "markdown",
   "metadata": {
    "slideshow": {
     "slide_type": "subslide"
    }
   },
   "source": [
    "### Part 2:  Load data"
   ]
  },
  {
   "cell_type": "code",
   "execution_count": null,
   "metadata": {
    "collapsed": true,
    "slideshow": {
     "slide_type": "fragment"
    }
   },
   "outputs": [],
   "source": [
    "df_adv = pd.read_csv('data/Advertising.csv') # Read data"
   ]
  },
  {
   "cell_type": "markdown",
   "metadata": {
    "slideshow": {
     "slide_type": "subslide"
    }
   },
   "source": [
    "Now get a subset of the data.  The code below is incomplete and will not work.  You need to introduce a stride of data to access.  For example, if you want to access indices $2$ through $5$ of an array called `x`, you would write \n",
    "```python\n",
    "x[2:5]\n",
    "```\n",
    "Note that if you just wanted to access index $2$, you would write \n",
    "```python\n",
    "x[2]\n",
    "```\n",
    "In place of `your_stride1` below, you should introduce your own stride.  Keep it small (e.g. 5-10 numbers)."
   ]
  },
  {
   "cell_type": "code",
   "execution_count": null,
   "metadata": {
    "collapsed": true,
    "slideshow": {
     "slide_type": "fragment"
    }
   },
   "outputs": [],
   "source": [
    "data_x = df_adv.TV[your_stride] # Get the TV budget\n",
    "data_y = df_adv.sales[your_stride] # Get the sales"
   ]
  },
  {
   "cell_type": "markdown",
   "metadata": {
    "slideshow": {
     "slide_type": "subslide"
    }
   },
   "source": [
    "### Part 3:  Sort the Data\n",
    "We need to sort the data in order to apply the KNN algorithm."
   ]
  },
  {
   "cell_type": "code",
   "execution_count": null,
   "metadata": {
    "collapsed": true,
    "slideshow": {
     "slide_type": "fragment"
    }
   },
   "outputs": [],
   "source": [
    "# Sort the array and get the values\n",
    "idx = np.argsort(data_x).values\n",
    "\n",
    "# Reorder the x and y data frames\n",
    "data_x  = data_x.iloc[idx]\n",
    "data_y  = data_y.iloc[idx]"
   ]
  },
  {
   "cell_type": "markdown",
   "metadata": {
    "slideshow": {
     "slide_type": "subslide"
    }
   },
   "source": [
    "### Part 4:  Write a function to find the nearest neighbor to a point\n",
    "#### Input:  The array of values and the point you want to check\n",
    "#### Output:  The index of the nearest neighbor *and* the value of the array at that index\n",
    "This function must be your own function.  **Do not use any external libraries to do this.**"
   ]
  },
  {
   "cell_type": "code",
   "execution_count": null,
   "metadata": {
    "collapsed": true,
    "slideshow": {
     "slide_type": "fragment"
    }
   },
   "outputs": [],
   "source": [
    "def find_nearest(array, xi):\n",
    "    # Your code here"
   ]
  },
  {
   "cell_type": "markdown",
   "metadata": {
    "slideshow": {
     "slide_type": "subslide"
    }
   },
   "source": [
    "### Part 5:  Predict!\n",
    "Use your `find_nearest()` function to predict missing values.  First, generate an array of $x$ values  These values correspond to the TV budget, but they might not be in your data array.  You want to predict the sales at each value of $x$ using the nearest neighbor.  "
   ]
  },
  {
   "cell_type": "code",
   "execution_count": null,
   "metadata": {
    "collapsed": true,
    "slideshow": {
     "slide_type": "fragment"
    }
   },
   "outputs": [],
   "source": [
    "# Your code here"
   ]
  },
  {
   "cell_type": "markdown",
   "metadata": {
    "slideshow": {
     "slide_type": "subslide"
    }
   },
   "source": [
    "### Part 6:  Plot\n",
    "Now you will plot your results using `matplotlib`."
   ]
  },
  {
   "cell_type": "code",
   "execution_count": null,
   "metadata": {
    "collapsed": true,
    "slideshow": {
     "slide_type": "fragment"
    }
   },
   "outputs": [],
   "source": [
    "plt.plot(x,y, '-.') # Basic plotting with a dash-dot line\n",
    "plt.plot(df_adv.TV[5:13], df_adv.sales[5:13], 'kx') # Plot the data points (black x markers)\n",
    "plt.title('') # Leave title blank\n",
    "plt.xlabel('TV budget in $1000') # Label the x-axis\n",
    "plt.ylabel('Sales in $1000') # Label the y-axis\n",
    "\n",
    "plt.savefig('nearest-neighbor.png',dpi=300) # save the figure"
   ]
  },
  {
   "cell_type": "markdown",
   "metadata": {
    "slideshow": {
     "slide_type": "slide"
    }
   },
   "source": [
    "## Exercise 2"
   ]
  },
  {
   "cell_type": "markdown",
   "metadata": {
    "slideshow": {
     "slide_type": "subslide"
    }
   },
   "source": [
    "The lecture covered basic linear regression and tried to minimize the loss function given by $$L\\left(\\beta_{0}, \\beta_{1}\\right) = \\frac{1}{n}\\sum_{i=1}^{n}{\\left(y_{i} - \\left(\\beta_{1}x_{1} + \\beta_{0}\\right)\\right)^{2}}.$$"
   ]
  },
  {
   "cell_type": "markdown",
   "metadata": {
    "slideshow": {
     "slide_type": "subslide"
    }
   },
   "source": [
    "### Part 1:  Derive the result from lecture that\n",
    "$$\\widehat{\\beta}_{1} = \\dfrac{\\displaystyle\\sum_{i=1}^{n}{\\left(x_{i} - \\overline{x}\\right)\\left(y_{i} - \\overline{y}\\right)}}{\\displaystyle\\sum_{i=1}^{n}{\\left(x_{i} - \\overline{x}\\right)^{2}}}$$ and $$\\widehat{\\beta}_{0} = \\overline{y} - \\beta_{1}\\overline{x}$$\n",
    "minimize the loss function where $$\\overline{x} = \\frac{1}{n}\\sum_{i=1}^{n}{x_{i}} \\quad \\textrm{and} \\quad \\overline{y} = \\frac{1}{n}\\sum_{i=1}^{n}{y_{i}}.$$"
   ]
  },
  {
   "cell_type": "markdown",
   "metadata": {
    "slideshow": {
     "slide_type": "subslide"
    }
   },
   "source": [
    "### Part 2:  Plots\n",
    "Fix $\\beta_{0}$ and plot $$L\\left(\\beta_{1}\\right)$$ using the sales data from Exercise 1."
   ]
  },
  {
   "cell_type": "markdown",
   "metadata": {
    "slideshow": {
     "slide_type": "subslide"
    }
   },
   "source": [
    "For reference, using $$\\beta_{0} = 7.104,$$ I got the following plot for $$L:$$ ![](fig/Exercise1-2.png)"
   ]
  }
 ],
 "metadata": {
  "celltoolbar": "Slideshow",
  "kernelspec": {
   "display_name": "Python 3",
   "language": "python",
   "name": "python3"
  },
  "language_info": {
   "codemirror_mode": {
    "name": "ipython",
    "version": 3
   },
   "file_extension": ".py",
   "mimetype": "text/x-python",
   "name": "python",
   "nbconvert_exporter": "python",
   "pygments_lexer": "ipython3",
   "version": "3.6.3"
  },
  "livereveal": {
   "scroll": true
  }
 },
 "nbformat": 4,
 "nbformat_minor": 2
}
