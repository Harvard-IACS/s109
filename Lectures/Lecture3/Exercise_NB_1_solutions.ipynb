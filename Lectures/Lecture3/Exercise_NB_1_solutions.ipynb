{
 "cells": [
  {
   "cell_type": "markdown",
   "metadata": {
    "slideshow": {
     "slide_type": "slide"
    }
   },
   "source": [
    "# <img style=\"float: left; padding-right: 10px; width: 45px\" src=\"iacs.png\"> S-109A Introduction to Data Science: \n",
    "\n",
    "## Lecture 3, code examples\n",
    "\n",
    "\n",
    "**Harvard University**<br/>\n",
    "**Summer 2018**<br/>\n",
    "**Instructors**: Pavlos Protopapas, Kevin Rader\n",
    "\n",
    "<hr style=\"height:2pt\">\n"
   ]
  },
  {
   "cell_type": "markdown",
   "metadata": {
    "slideshow": {
     "slide_type": "fragment"
    }
   },
   "source": [
    "The following examples are intended to complement the lecture. They can be used to clarify important steps from the lecture. You are strongly encouraged to do them.\n",
    "\n",
    "In the first example below, I give you a lot of the necessary code to help familiarize you with python and its primary libraries. \n",
    "\n",
    "Lecture 3 contained an example of the $k$ nearest neighbors algorithm for a prediction problem.  The initial example considered $k=1$ and was applied to the advertising dataset in an attempt to predict sales from TV budgets.  Here I  reproduce the results from the lecture.  In particular, generate the following figure:"
   ]
  },
  {
   "cell_type": "markdown",
   "metadata": {
    "slideshow": {
     "slide_type": "slide"
    }
   },
   "source": [
    "![](fig/E1.png)"
   ]
  },
  {
   "cell_type": "markdown",
   "metadata": {
    "slideshow": {
     "slide_type": "slide"
    }
   },
   "source": [
    "### Part 1:  Load Basic `Python` Modules"
   ]
  },
  {
   "cell_type": "code",
   "execution_count": 36,
   "metadata": {
    "slideshow": {
     "slide_type": "fragment"
    }
   },
   "outputs": [
    {
     "name": "stdout",
     "output_type": "stream",
     "text": [
      "Populating the interactive namespace from numpy and matplotlib\n"
     ]
    },
    {
     "name": "stderr",
     "output_type": "stream",
     "text": [
      "/Users/pavlos/anaconda3/lib/python3.6/site-packages/IPython/core/magics/pylab.py:160: UserWarning: pylab import has clobbered these variables: ['plt', 'savefig']\n",
      "`%matplotlib` prevents importing * from pylab and numpy\n",
      "  \"\\n`%matplotlib` prevents importing * from pylab and numpy\"\n"
     ]
    }
   ],
   "source": [
    "# Access to pandas dataframes\n",
    "import pandas as pd # (see https://pandas.pydata.org/ for documentation)\n",
    "\n",
    "# Access to matplotlib for plotting capabilities\n",
    "# The inline command below allows you to display plots \n",
    "# in the notebook.  Without this command, the plots wouldn't \n",
    "# show up\n",
    "%pylab inline\n",
    "import matplotlib.pylab as plt # (see https://matplotlib.org/ for documentation)\n",
    "\n",
    "# Access to numpy for basic numerical algorithms\n",
    "import numpy as np # (see http://www.numpy.org/ for documentation)"
   ]
  },
  {
   "cell_type": "markdown",
   "metadata": {
    "slideshow": {
     "slide_type": "slide"
    }
   },
   "source": [
    "### Part 2:  Load data"
   ]
  },
  {
   "cell_type": "code",
   "execution_count": 32,
   "metadata": {
    "slideshow": {
     "slide_type": "fragment"
    }
   },
   "outputs": [],
   "source": [
    "# Read data\n",
    "df_adv = pd.read_csv('data/Advertising.csv')"
   ]
  },
  {
   "cell_type": "markdown",
   "metadata": {
    "slideshow": {
     "slide_type": "slide"
    }
   },
   "source": [
    "Now get a subset of the data.  The code below is incomplete and will not work.  You need to introduce a stride of data to access.  For example, if you want to access indices $2$ through $5$ of an array called `x`, you would write \n",
    "```python\n",
    "x[2:5]\n",
    "```\n",
    "Note that if you just wanted to access index $2$, you would write \n",
    "```python\n",
    "x[2]\n",
    "```\n",
    "In place of `your_stride1` below, you should introduce your own stride.  Keep it small (e.g. 5-10 numbers)."
   ]
  },
  {
   "cell_type": "code",
   "execution_count": 37,
   "metadata": {
    "slideshow": {
     "slide_type": "fragment"
    }
   },
   "outputs": [],
   "source": [
    "# Get a subset of the data\n",
    "data_x = df_adv.TV[5:13]\n",
    "data_y = df_adv.sales[5:13]"
   ]
  },
  {
   "cell_type": "markdown",
   "metadata": {
    "slideshow": {
     "slide_type": "slide"
    }
   },
   "source": [
    "### Part 3:  Sort the Data\n",
    "We need to sort the data in order to apply the KNN algorithm."
   ]
  },
  {
   "cell_type": "code",
   "execution_count": 33,
   "metadata": {
    "slideshow": {
     "slide_type": "fragment"
    }
   },
   "outputs": [],
   "source": [
    "# Sort the data\n",
    "idx = np.argsort(data_x).values # Get indices ordered from lowest to highest values\n",
    "\n",
    "# Note:  You may find it helpful to print out idx to see what's in it"
   ]
  },
  {
   "cell_type": "code",
   "execution_count": 38,
   "metadata": {
    "slideshow": {
     "slide_type": "fragment"
    }
   },
   "outputs": [],
   "source": [
    "# Get the actual data in the order from above\n",
    "data_x  = data_x.iloc[idx]\n",
    "data_y  = data_y.iloc[idx]"
   ]
  },
  {
   "cell_type": "code",
   "execution_count": 35,
   "metadata": {
    "slideshow": {
     "slide_type": "slide"
    }
   },
   "outputs": [],
   "source": [
    "# Here's a function that finds the index of the nearest neighbor \n",
    "# and returns the value of the nearest neighbor.  Note that this \n",
    "# is just for k = 1 and the distance function is simply the \n",
    "# absolute value.\n",
    "def find_nearest(array,value):\n",
    "    idx = (np.abs(array-value)).idxmin()\n",
    "    return idx, array[idx]"
   ]
  },
  {
   "cell_type": "code",
   "execution_count": 27,
   "metadata": {
    "slideshow": {
     "slide_type": "slide"
    }
   },
   "outputs": [],
   "source": [
    "# Note that we have used the idxmin method in our function.  This is \n",
    "# because `array' is a pandas dataframe and idxmin() is designed to \n",
    "# work with pandas dataframes.  If we are working with a numpy array \n",
    "# then the appropriate method would be `argmin()'.\n",
    "\n",
    "# Create some artificial x-values (might not be in the actual dataset)\n",
    "x = np.linspace(np.min(data_x), np.max(data_x))\n",
    "\n",
    "# Initialize the y-values to zero\n",
    "y = np.zeros( (len(x)))"
   ]
  },
  {
   "cell_type": "code",
   "execution_count": 28,
   "metadata": {
    "slideshow": {
     "slide_type": "fragment"
    }
   },
   "outputs": [],
   "source": [
    "# Apply the KNN algorithm.  Try to predict the y-value at a given x-value\n",
    "# Note:  You may have tried to use the `range' method in your code.  Enumerate \n",
    "# is far better in this case.  Try to understand why.\n",
    "for i, xi in enumerate(x):\n",
    "    y[i] = data_y[find_nearest( data_x, xi )[0]]"
   ]
  },
  {
   "cell_type": "code",
   "execution_count": 30,
   "metadata": {
    "slideshow": {
     "slide_type": "slide"
    }
   },
   "outputs": [
    {
     "data": {
      "image/png": "[encoded data removed]",
      "text/plain": [
       "<matplotlib.figure.Figure at 0x115bc8208>"
      ]
     },
     "metadata": {},
     "output_type": "display_data"
    }
   ],
   "source": [
    "# Plot your solution    \n",
    "plt.plot(x,y, '-.')\n",
    "# Plot the original data using black x's.\n",
    "plt.plot(df_adv.TV[5:13], df_adv.sales[5:13], 'kx')\n",
    "plt.title('')\n",
    "plt.xlabel('TV budget in $1000')\n",
    "plt.ylabel('Sales in $1000')\n",
    "\n",
    "# Save the figure if savefig=True\n",
    "if (savefig):\n",
    "    plt.savefig('fig/E1.png',dpi=300)"
   ]
  },
  {
   "cell_type": "markdown",
   "metadata": {
    "slideshow": {
     "slide_type": "slide"
    }
   },
   "source": [
    "# Solutions to Exercise 2"
   ]
  },
  {
   "cell_type": "markdown",
   "metadata": {
    "slideshow": {
     "slide_type": "fragment"
    }
   },
   "source": [
    "To derive the result from lecture, take the derivatives with respect to the parameters $\\beta_{0}$ and $\\beta_{1}$ and set to zero, $\\dfrac{\\partial L}{\\partial \\beta_{j}} = 0$.  Remember that the loss function is $$L\\left(\\beta_{0}, \\beta_{1}\\right) = \\frac{1}{n}\\sum_{i=1}^{n}{\\left(y_{i} - \\left(\\beta_{1}x_{1} + \\beta_{0}\\right)\\right)^{2}}.$$  The result of this is,\n",
    "$$\\dfrac{\\partial L}{\\partial \\beta_{0}} = \\frac{2}{n}\\sum_{i=1}^{n}{y_{i} - \\left(\\beta_{1}x_{i} + \\beta_{0}\\right)} = 0$$ and \n",
    "$$\\dfrac{\\partial L}{\\partial \\beta_{1}} = -\\frac{2}{n}\\sum_{i=1}^{n}{x_{i}\\left[y_{i} - \\left(\\beta_{1}x_{i} + \\beta_{0}\\right)\\right]} = 0.$$"
   ]
  },
  {
   "cell_type": "markdown",
   "metadata": {
    "slideshow": {
     "slide_type": "slide"
    }
   },
   "source": [
    "This is just two equations in two unknowns.  Solving for $\\beta_{0}$ and $\\beta_{1}$ gives the desired result:\n",
    "$$\\widehat{\\beta}_{1} = \\dfrac{\\displaystyle\\sum_{i=1}^{n}{\\left(x_{i} - \\overline{x}\\right)\\left(y_{i} - \\overline{y}\\right)}}{\\displaystyle\\sum_{i=1}^{n}{\\left(x_{i} - \\overline{x}\\right)^{2}}} \\quad \\textrm{and} \\quad \\widehat{\\beta}_{0} = \\overline{y} - \\beta_{1}\\overline{x}$$\n",
    "with \n",
    "$$\\overline{x} = \\frac{1}{n}\\sum_{i=1}^{n}{x_{i}} \\quad \\textrm{and} \\quad \\overline{y} = \\frac{1}{n}\\sum_{i=1}^{n}{y_{i}}.$$"
   ]
  },
  {
   "cell_type": "markdown",
   "metadata": {
    "slideshow": {
     "slide_type": "slide"
    }
   },
   "source": [
    "To make the desired plot, we need to select some value of $\\beta_{0}$ and create a grid over $\\beta_{1}$."
   ]
  },
  {
   "cell_type": "code",
   "execution_count": 15,
   "metadata": {
    "slideshow": {
     "slide_type": "fragment"
    }
   },
   "outputs": [],
   "source": [
    "import numpy as np\n",
    "beta_0 = 7.10\n",
    "beta_1 = np.linspace(0.0,0.075, 10000)"
   ]
  },
  {
   "cell_type": "markdown",
   "metadata": {
    "slideshow": {
     "slide_type": "fragment"
    }
   },
   "source": [
    "Let's get the data."
   ]
  },
  {
   "cell_type": "code",
   "execution_count": 16,
   "metadata": {
    "slideshow": {
     "slide_type": "fragment"
    }
   },
   "outputs": [],
   "source": [
    "x = df_adv.TV[5:13].values\n",
    "y = df_adv.sales[5:13].values\n",
    "n = len(x)"
   ]
  },
  {
   "cell_type": "markdown",
   "metadata": {
    "slideshow": {
     "slide_type": "slide"
    }
   },
   "source": [
    "Next, we compute the loss function."
   ]
  },
  {
   "cell_type": "code",
   "execution_count": 20,
   "metadata": {
    "slideshow": {
     "slide_type": "fragment"
    }
   },
   "outputs": [
    {
     "name": "stdout",
     "output_type": "stream",
     "text": [
      "4.91691344875 0.0371512151215\n"
     ]
    }
   ],
   "source": [
    "L = np.zeros(len(beta_1))\n",
    "for idx, xi in enumerate(x):\n",
    "    L += (y[idx] - beta_1 * xi - beta_0) ** 2.0\n",
    "L /= n \n",
    "print(L[np.argmin(L)], beta_1[np.argmin(L)])"
   ]
  },
  {
   "cell_type": "markdown",
   "metadata": {
    "slideshow": {
     "slide_type": "fragment"
    }
   },
   "source": [
    "Now plot and save."
   ]
  },
  {
   "cell_type": "code",
   "execution_count": 19,
   "metadata": {
    "scrolled": true,
    "slideshow": {
     "slide_type": "fragment"
    }
   },
   "outputs": [
    {
     "data": {
      "image/png": "[encoded data removed]",
      "text/plain": [
       "<matplotlib.figure.Figure at 0x112960cc0>"
      ]
     },
     "metadata": {},
     "output_type": "display_data"
    }
   ],
   "source": [
    "plt.plot(beta_1, L)\n",
    "plt.title(r'$\\beta_0 = {0:5.3f}$'.format(beta_0))\n",
    "plt.ylabel(r'$L\\left(\\beta_{1}\\right)$')\n",
    "plt.xlabel(r'$\\beta_{1}$')\n",
    "plt.savefig('fig/Exercise1-2.png', dpi=300)"
   ]
  },
  {
   "cell_type": "markdown",
   "metadata": {
    "slideshow": {
     "slide_type": "slide"
    }
   },
   "source": [
    "### Extra!\n",
    "We can compute the actual values of $\\beta_{0}$ and $\\beta_{1}$ from the formulas we derived."
   ]
  },
  {
   "cell_type": "code",
   "execution_count": 7,
   "metadata": {
    "slideshow": {
     "slide_type": "slide"
    }
   },
   "outputs": [
    {
     "name": "stdout",
     "output_type": "stream",
     "text": [
      "7.104179777376865 0.03712691132540045\n"
     ]
    }
   ],
   "source": [
    "def beta_hat(x, y):\n",
    "    # Mean of x and y\n",
    "    xbar = np.mean(x)\n",
    "    ybar = np.mean(y) \n",
    "\n",
    "    xi_minus_xbar = x - xbar\n",
    "    yi_minus_ybar = y - ybar\n",
    "    \n",
    "    # Numerator of beta_1 expression\n",
    "    num = xi_minus_xbar * yi_minus_ybar\n",
    "    num = np.sum(num)\n",
    "    \n",
    "    # Denominator of beta_1 expression\n",
    "    den = np.linalg.norm(xi_minus_xbar)**2.0\n",
    "    \n",
    "    # beta_1 and beta_0\n",
    "    beta_hat_1 = num / den    \n",
    "    beta_hat_0 = ybar - beta_hat_1 * xbar\n",
    "    \n",
    "    return [beta_hat_0, beta_hat_1]\n",
    "\n",
    "beta = beta_hat(x,y)\n",
    "\n",
    "print(beta[0], beta[1])"
   ]
  },
  {
   "cell_type": "markdown",
   "metadata": {
    "slideshow": {
     "slide_type": "slide"
    }
   },
   "source": [
    "Now calculate the true minimum of $L$."
   ]
  },
  {
   "cell_type": "code",
   "execution_count": 8,
   "metadata": {
    "slideshow": {
     "slide_type": "fragment"
    }
   },
   "outputs": [
    {
     "name": "stdout",
     "output_type": "stream",
     "text": [
      "4.916905702968989\n"
     ]
    }
   ],
   "source": [
    "L = 0.0\n",
    "for idx, xi in enumerate(x):\n",
    "    L += (y[idx] - beta[1] * xi - beta[0]) ** 2.0\n",
    "L /= n\n",
    "print(L)"
   ]
  },
  {
   "cell_type": "code",
   "execution_count": 3,
   "metadata": {
    "slideshow": {
     "slide_type": "fragment"
    }
   },
   "outputs": [
    {
     "data": {
      "text/html": [
       "<style>\n",
       "h1 { \n",
       "    padding-top: 25px;\n",
       "    padding-bottom: 25px;\n",
       "    text-align: left; \n",
       "    padding-left: 10px;\n",
       "    background-color: #DDDDDD; \n",
       "    color: black;\n",
       "}\n",
       "div.exercise {\n",
       "\tbackground-color: #ffcccc;\n",
       "\tborder-color: #E9967A; \t\n",
       "\tborder-left: 5px solid #800080; \n",
       "\tpadding: 0.5em;\n",
       "}\n",
       "div.theme {\n",
       "\tbackground-color: #DDDDDD;\n",
       "\tborder-color: #E9967A; \t\n",
       "\tborder-left: 5px solid #800080; \n",
       "\tpadding: 0.5em;\n",
       "\tfont-size: 18pt;\n",
       "}\n",
       "p.q1 { \n",
       "    padding-top: 5px;\n",
       "    padding-bottom: 5px;\n",
       "    text-align: left; \n",
       "    padding-left: 5px;\n",
       "    background-color: #EEEEEE; \n",
       "    color: black;\n",
       "}\n",
       "header {\n",
       "   padding-top: 35px;\n",
       "    padding-bottom: 35px;\n",
       "    text-align: left; \n",
       "    padding-left: 10px;\n",
       "    background-color: #DDDDDD; \n",
       "    color: black;\n",
       "}\n",
       "</style>\n",
       "\n"
      ],
      "text/plain": [
       "<IPython.core.display.HTML object>"
      ]
     },
     "execution_count": 3,
     "metadata": {},
     "output_type": "execute_result"
    }
   ],
   "source": [
    "from IPython.core.display import HTML\n",
    "def css_styling(): styles = open(\"cs109.css\", \"r\").read(); return HTML(styles)\n",
    "css_styling()"
   ]
  },
  {
   "cell_type": "code",
   "execution_count": null,
   "metadata": {},
   "outputs": [],
   "source": []
  }
 ],
 "metadata": {
  "celltoolbar": "Slideshow",
  "kernelspec": {
   "display_name": "Python 3",
   "language": "python",
   "name": "python3"
  },
  "language_info": {
   "codemirror_mode": {
    "name": "ipython",
    "version": 3
   },
   "file_extension": ".py",
   "mimetype": "text/x-python",
   "name": "python",
   "nbconvert_exporter": "python",
   "pygments_lexer": "ipython3",
   "version": "3.6.3"
  }
 },
 "nbformat": 4,
 "nbformat_minor": 2
}
